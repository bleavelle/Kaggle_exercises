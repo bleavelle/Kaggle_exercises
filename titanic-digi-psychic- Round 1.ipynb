{
 "cells": [
  {
   "cell_type": "code",
   "execution_count": 1,
   "id": "86816eb5",
   "metadata": {
    "_cell_guid": "b1076dfc-b9ad-4769-8c92-a6c4dae69d19",
    "_uuid": "8f2839f25d086af736a60e9eeb907d3b93b6e0e5",
    "execution": {
     "iopub.execute_input": "2022-09-03T19:56:22.250020Z",
     "iopub.status.busy": "2022-09-03T19:56:22.249565Z",
     "iopub.status.idle": "2022-09-03T19:56:23.792706Z",
     "shell.execute_reply": "2022-09-03T19:56:23.791632Z"
    },
    "papermill": {
     "duration": 1.563118,
     "end_time": "2022-09-03T19:56:23.796508",
     "exception": false,
     "start_time": "2022-09-03T19:56:22.233390",
     "status": "completed"
    },
    "tags": []
   },
   "outputs": [],
   "source": [
    "import numpy as np \n",
    "import pandas as pd \n",
    "import seaborn as sns\n",
    "import matplotlib\n",
    "import matplotlib.pyplot as plt\n",
    "import os\n",
    "import sklearn\n",
    "from scipy.stats import shapiro\n",
    "pd.set_option('display.max_rows', 500)\n",
    "import warnings; warnings.simplefilter('ignore')\n",
    "from sklearn import metrics\n",
    "from sklearn.model_selection import train_test_split\n",
    "from sklearn.ensemble import RandomForestClassifier"
   ]
  },
  {
   "cell_type": "code",
   "execution_count": 2,
   "id": "8c4733ec",
   "metadata": {
    "execution": {
     "iopub.execute_input": "2022-09-03T19:56:23.828517Z",
     "iopub.status.busy": "2022-09-03T19:56:23.827696Z",
     "iopub.status.idle": "2022-09-03T19:56:23.832988Z",
     "shell.execute_reply": "2022-09-03T19:56:23.832030Z"
    },
    "papermill": {
     "duration": 0.022144,
     "end_time": "2022-09-03T19:56:23.835509",
     "exception": false,
     "start_time": "2022-09-03T19:56:23.813365",
     "status": "completed"
    },
    "tags": []
   },
   "outputs": [],
   "source": [
    "dirname = r'../input/titanic'"
   ]
  },
  {
   "cell_type": "code",
   "execution_count": 3,
   "id": "083e0377",
   "metadata": {
    "execution": {
     "iopub.execute_input": "2022-09-03T19:56:23.866482Z",
     "iopub.status.busy": "2022-09-03T19:56:23.865423Z",
     "iopub.status.idle": "2022-09-03T19:56:23.907439Z",
     "shell.execute_reply": "2022-09-03T19:56:23.906449Z"
    },
    "papermill": {
     "duration": 0.058931,
     "end_time": "2022-09-03T19:56:23.909919",
     "exception": false,
     "start_time": "2022-09-03T19:56:23.850988",
     "status": "completed"
    },
    "tags": []
   },
   "outputs": [],
   "source": [
    "df = pd.read_csv(os.path.join(dirname, 'train.csv'))\n",
    "df_test = pd.read_csv(os.path.join(dirname, 'test.csv'))\n",
    "df_submit = pd.read_csv(os.path.join(dirname, 'gender_submission.csv'))"
   ]
  },
  {
   "cell_type": "markdown",
   "id": "ac549ecd",
   "metadata": {
    "papermill": {
     "duration": 0.013255,
     "end_time": "2022-09-03T19:56:23.936365",
     "exception": false,
     "start_time": "2022-09-03T19:56:23.923110",
     "status": "completed"
    },
    "tags": []
   },
   "source": [
    "# ***TITANIC DIGI-PSYCHIC: WHO LIVES AND WHO DIES?! ***\n",
    "## LETS GO:"
   ]
  },
  {
   "cell_type": "code",
   "execution_count": 4,
   "id": "7f9853b9",
   "metadata": {
    "execution": {
     "iopub.execute_input": "2022-09-03T19:56:23.964798Z",
     "iopub.status.busy": "2022-09-03T19:56:23.964086Z",
     "iopub.status.idle": "2022-09-03T19:56:23.988447Z",
     "shell.execute_reply": "2022-09-03T19:56:23.987394Z"
    },
    "papermill": {
     "duration": 0.042287,
     "end_time": "2022-09-03T19:56:23.991728",
     "exception": false,
     "start_time": "2022-09-03T19:56:23.949441",
     "status": "completed"
    },
    "tags": []
   },
   "outputs": [
    {
     "data": {
      "text/html": [
       "<div>\n",
       "<style scoped>\n",
       "    .dataframe tbody tr th:only-of-type {\n",
       "        vertical-align: middle;\n",
       "    }\n",
       "\n",
       "    .dataframe tbody tr th {\n",
       "        vertical-align: top;\n",
       "    }\n",
       "\n",
       "    .dataframe thead th {\n",
       "        text-align: right;\n",
       "    }\n",
       "</style>\n",
       "<table border=\"1\" class=\"dataframe\">\n",
       "  <thead>\n",
       "    <tr style=\"text-align: right;\">\n",
       "      <th></th>\n",
       "      <th>PassengerId</th>\n",
       "      <th>Survived</th>\n",
       "      <th>Pclass</th>\n",
       "      <th>Name</th>\n",
       "      <th>Sex</th>\n",
       "      <th>Age</th>\n",
       "      <th>SibSp</th>\n",
       "      <th>Parch</th>\n",
       "      <th>Ticket</th>\n",
       "      <th>Fare</th>\n",
       "      <th>Cabin</th>\n",
       "      <th>Embarked</th>\n",
       "    </tr>\n",
       "  </thead>\n",
       "  <tbody>\n",
       "    <tr>\n",
       "      <th>0</th>\n",
       "      <td>1</td>\n",
       "      <td>0</td>\n",
       "      <td>3</td>\n",
       "      <td>Braund, Mr. Owen Harris</td>\n",
       "      <td>male</td>\n",
       "      <td>22.0</td>\n",
       "      <td>1</td>\n",
       "      <td>0</td>\n",
       "      <td>A/5 21171</td>\n",
       "      <td>7.2500</td>\n",
       "      <td>NaN</td>\n",
       "      <td>S</td>\n",
       "    </tr>\n",
       "    <tr>\n",
       "      <th>1</th>\n",
       "      <td>2</td>\n",
       "      <td>1</td>\n",
       "      <td>1</td>\n",
       "      <td>Cumings, Mrs. John Bradley (Florence Briggs Th...</td>\n",
       "      <td>female</td>\n",
       "      <td>38.0</td>\n",
       "      <td>1</td>\n",
       "      <td>0</td>\n",
       "      <td>PC 17599</td>\n",
       "      <td>71.2833</td>\n",
       "      <td>C85</td>\n",
       "      <td>C</td>\n",
       "    </tr>\n",
       "    <tr>\n",
       "      <th>2</th>\n",
       "      <td>3</td>\n",
       "      <td>1</td>\n",
       "      <td>3</td>\n",
       "      <td>Heikkinen, Miss. Laina</td>\n",
       "      <td>female</td>\n",
       "      <td>26.0</td>\n",
       "      <td>0</td>\n",
       "      <td>0</td>\n",
       "      <td>STON/O2. 3101282</td>\n",
       "      <td>7.9250</td>\n",
       "      <td>NaN</td>\n",
       "      <td>S</td>\n",
       "    </tr>\n",
       "    <tr>\n",
       "      <th>3</th>\n",
       "      <td>4</td>\n",
       "      <td>1</td>\n",
       "      <td>1</td>\n",
       "      <td>Futrelle, Mrs. Jacques Heath (Lily May Peel)</td>\n",
       "      <td>female</td>\n",
       "      <td>35.0</td>\n",
       "      <td>1</td>\n",
       "      <td>0</td>\n",
       "      <td>113803</td>\n",
       "      <td>53.1000</td>\n",
       "      <td>C123</td>\n",
       "      <td>S</td>\n",
       "    </tr>\n",
       "    <tr>\n",
       "      <th>4</th>\n",
       "      <td>5</td>\n",
       "      <td>0</td>\n",
       "      <td>3</td>\n",
       "      <td>Allen, Mr. William Henry</td>\n",
       "      <td>male</td>\n",
       "      <td>35.0</td>\n",
       "      <td>0</td>\n",
       "      <td>0</td>\n",
       "      <td>373450</td>\n",
       "      <td>8.0500</td>\n",
       "      <td>NaN</td>\n",
       "      <td>S</td>\n",
       "    </tr>\n",
       "  </tbody>\n",
       "</table>\n",
       "</div>"
      ],
      "text/plain": [
       "   PassengerId  Survived  Pclass  \\\n",
       "0            1         0       3   \n",
       "1            2         1       1   \n",
       "2            3         1       3   \n",
       "3            4         1       1   \n",
       "4            5         0       3   \n",
       "\n",
       "                                                Name     Sex   Age  SibSp  \\\n",
       "0                            Braund, Mr. Owen Harris    male  22.0      1   \n",
       "1  Cumings, Mrs. John Bradley (Florence Briggs Th...  female  38.0      1   \n",
       "2                             Heikkinen, Miss. Laina  female  26.0      0   \n",
       "3       Futrelle, Mrs. Jacques Heath (Lily May Peel)  female  35.0      1   \n",
       "4                           Allen, Mr. William Henry    male  35.0      0   \n",
       "\n",
       "   Parch            Ticket     Fare Cabin Embarked  \n",
       "0      0         A/5 21171   7.2500   NaN        S  \n",
       "1      0          PC 17599  71.2833   C85        C  \n",
       "2      0  STON/O2. 3101282   7.9250   NaN        S  \n",
       "3      0            113803  53.1000  C123        S  \n",
       "4      0            373450   8.0500   NaN        S  "
      ]
     },
     "execution_count": 4,
     "metadata": {},
     "output_type": "execute_result"
    }
   ],
   "source": [
    "df.head()"
   ]
  },
  {
   "cell_type": "markdown",
   "id": "68e55796",
   "metadata": {
    "papermill": {
     "duration": 0.0132,
     "end_time": "2022-09-03T19:56:24.018562",
     "exception": false,
     "start_time": "2022-09-03T19:56:24.005362",
     "status": "completed"
    },
    "tags": []
   },
   "source": [
    " well first lets ask the internet...\n",
    "### INTERNET FACTS ABOUT WHO DIED AND WHO LIVED:\n",
    "\n",
    "1. 68% of everyone on board died.\n",
    "2. Of the victims, 832 were passengers, 685 were crew members.\n",
    "3. 39% of first class, 58% of second class, 76% of third class died. That shit tracks.\n",
    "4. 1 child from first class died. 52 from the poorest families died. Also tracks.\n",
    "5. **724** crew members were from Southampton, and only **175** were returned home.\n",
    "6. 80% of the male passengers and 25% of the female passengers died.\n",
    "\n",
    "*thank u titanicfacts.net* <3"
   ]
  },
  {
   "cell_type": "markdown",
   "id": "3d93a072",
   "metadata": {
    "papermill": {
     "duration": 0.013132,
     "end_time": "2022-09-03T19:56:24.045184",
     "exception": false,
     "start_time": "2022-09-03T19:56:24.032052",
     "status": "completed"
    },
    "tags": []
   },
   "source": [
    "# 1. POKIN' AROUND"
   ]
  },
  {
   "cell_type": "code",
   "execution_count": 5,
   "id": "787d99ba",
   "metadata": {
    "execution": {
     "iopub.execute_input": "2022-09-03T19:56:24.074412Z",
     "iopub.status.busy": "2022-09-03T19:56:24.073397Z",
     "iopub.status.idle": "2022-09-03T19:56:24.087909Z",
     "shell.execute_reply": "2022-09-03T19:56:24.086726Z"
    },
    "papermill": {
     "duration": 0.031404,
     "end_time": "2022-09-03T19:56:24.090076",
     "exception": false,
     "start_time": "2022-09-03T19:56:24.058672",
     "status": "completed"
    },
    "tags": []
   },
   "outputs": [
    {
     "data": {
      "text/plain": [
       "S    644\n",
       "C    168\n",
       "Q     77\n",
       "Name: Embarked, dtype: int64"
      ]
     },
     "execution_count": 5,
     "metadata": {},
     "output_type": "execute_result"
    }
   ],
   "source": [
    "# just check out what exists in this column\n",
    "df['Embarked'].value_counts()"
   ]
  },
  {
   "cell_type": "markdown",
   "id": "19f469f0",
   "metadata": {
    "papermill": {
     "duration": 0.01307,
     "end_time": "2022-09-03T19:56:24.116427",
     "exception": false,
     "start_time": "2022-09-03T19:56:24.103357",
     "status": "completed"
    },
    "tags": []
   },
   "source": [
    "\n"
   ]
  },
  {
   "cell_type": "code",
   "execution_count": 6,
   "id": "62b063c6",
   "metadata": {
    "execution": {
     "iopub.execute_input": "2022-09-03T19:56:24.145067Z",
     "iopub.status.busy": "2022-09-03T19:56:24.144674Z",
     "iopub.status.idle": "2022-09-03T19:56:24.152696Z",
     "shell.execute_reply": "2022-09-03T19:56:24.151572Z"
    },
    "papermill": {
     "duration": 0.025272,
     "end_time": "2022-09-03T19:56:24.155010",
     "exception": false,
     "start_time": "2022-09-03T19:56:24.129738",
     "status": "completed"
    },
    "tags": []
   },
   "outputs": [
    {
     "data": {
      "text/plain": [
       "0    549\n",
       "1    342\n",
       "Name: Survived, dtype: int64"
      ]
     },
     "execution_count": 6,
     "metadata": {},
     "output_type": "execute_result"
    }
   ],
   "source": [
    "#seeing how many ghosts im dealing with here\n",
    "\n",
    "df['Survived'].value_counts()"
   ]
  },
  {
   "cell_type": "code",
   "execution_count": 7,
   "id": "2e7b1b5e",
   "metadata": {
    "execution": {
     "iopub.execute_input": "2022-09-03T19:56:24.188561Z",
     "iopub.status.busy": "2022-09-03T19:56:24.187904Z",
     "iopub.status.idle": "2022-09-03T19:56:24.225253Z",
     "shell.execute_reply": "2022-09-03T19:56:24.224417Z"
    },
    "papermill": {
     "duration": 0.056889,
     "end_time": "2022-09-03T19:56:24.228016",
     "exception": false,
     "start_time": "2022-09-03T19:56:24.171127",
     "status": "completed"
    },
    "tags": []
   },
   "outputs": [
    {
     "data": {
      "text/html": [
       "<div>\n",
       "<style scoped>\n",
       "    .dataframe tbody tr th:only-of-type {\n",
       "        vertical-align: middle;\n",
       "    }\n",
       "\n",
       "    .dataframe tbody tr th {\n",
       "        vertical-align: top;\n",
       "    }\n",
       "\n",
       "    .dataframe thead th {\n",
       "        text-align: right;\n",
       "    }\n",
       "</style>\n",
       "<table border=\"1\" class=\"dataframe\">\n",
       "  <thead>\n",
       "    <tr style=\"text-align: right;\">\n",
       "      <th>Survived</th>\n",
       "      <th>0</th>\n",
       "      <th>1</th>\n",
       "    </tr>\n",
       "    <tr>\n",
       "      <th>Sex</th>\n",
       "      <th></th>\n",
       "      <th></th>\n",
       "    </tr>\n",
       "  </thead>\n",
       "  <tbody>\n",
       "    <tr>\n",
       "      <th>female</th>\n",
       "      <td>81</td>\n",
       "      <td>233</td>\n",
       "    </tr>\n",
       "    <tr>\n",
       "      <th>male</th>\n",
       "      <td>468</td>\n",
       "      <td>109</td>\n",
       "    </tr>\n",
       "  </tbody>\n",
       "</table>\n",
       "</div>"
      ],
      "text/plain": [
       "Survived    0    1\n",
       "Sex               \n",
       "female     81  233\n",
       "male      468  109"
      ]
     },
     "execution_count": 7,
     "metadata": {},
     "output_type": "execute_result"
    }
   ],
   "source": [
    "#comparing male deaths to female deaths\n",
    "\n",
    "crosstab = pd.crosstab(df['Sex'], df['Survived'], dropna = False)\n",
    "crosstab"
   ]
  },
  {
   "cell_type": "markdown",
   "id": "18d458ba",
   "metadata": {
    "papermill": {
     "duration": 0.015914,
     "end_time": "2022-09-03T19:56:24.261064",
     "exception": false,
     "start_time": "2022-09-03T19:56:24.245150",
     "status": "completed"
    },
    "tags": []
   },
   "source": [
    "### down with the patirarchy, amirite"
   ]
  },
  {
   "cell_type": "code",
   "execution_count": 8,
   "id": "f873d59a",
   "metadata": {
    "execution": {
     "iopub.execute_input": "2022-09-03T19:56:24.290491Z",
     "iopub.status.busy": "2022-09-03T19:56:24.289809Z",
     "iopub.status.idle": "2022-09-03T19:56:24.306359Z",
     "shell.execute_reply": "2022-09-03T19:56:24.305587Z"
    },
    "papermill": {
     "duration": 0.033608,
     "end_time": "2022-09-03T19:56:24.308402",
     "exception": false,
     "start_time": "2022-09-03T19:56:24.274794",
     "status": "completed"
    },
    "tags": []
   },
   "outputs": [
    {
     "data": {
      "text/html": [
       "<div>\n",
       "<style scoped>\n",
       "    .dataframe tbody tr th:only-of-type {\n",
       "        vertical-align: middle;\n",
       "    }\n",
       "\n",
       "    .dataframe tbody tr th {\n",
       "        vertical-align: top;\n",
       "    }\n",
       "\n",
       "    .dataframe thead th {\n",
       "        text-align: right;\n",
       "    }\n",
       "</style>\n",
       "<table border=\"1\" class=\"dataframe\">\n",
       "  <thead>\n",
       "    <tr style=\"text-align: right;\">\n",
       "      <th>Survived</th>\n",
       "      <th>0</th>\n",
       "      <th>1</th>\n",
       "    </tr>\n",
       "    <tr>\n",
       "      <th>Pclass</th>\n",
       "      <th></th>\n",
       "      <th></th>\n",
       "    </tr>\n",
       "  </thead>\n",
       "  <tbody>\n",
       "    <tr>\n",
       "      <th>1</th>\n",
       "      <td>80</td>\n",
       "      <td>136</td>\n",
       "    </tr>\n",
       "    <tr>\n",
       "      <th>2</th>\n",
       "      <td>97</td>\n",
       "      <td>87</td>\n",
       "    </tr>\n",
       "    <tr>\n",
       "      <th>3</th>\n",
       "      <td>372</td>\n",
       "      <td>119</td>\n",
       "    </tr>\n",
       "  </tbody>\n",
       "</table>\n",
       "</div>"
      ],
      "text/plain": [
       "Survived    0    1\n",
       "Pclass            \n",
       "1          80  136\n",
       "2          97   87\n",
       "3         372  119"
      ]
     },
     "execution_count": 8,
     "metadata": {},
     "output_type": "execute_result"
    }
   ],
   "source": [
    "#class death divide\n",
    "\n",
    "crasstab2 = pd.crosstab(df['Pclass'], df['Survived'], dropna = False) \n",
    "crasstab2 # NICE TYPO, ill take it!"
   ]
  },
  {
   "cell_type": "markdown",
   "id": "d83a7e2f",
   "metadata": {
    "papermill": {
     "duration": 0.013392,
     "end_time": "2022-09-03T19:56:24.335789",
     "exception": false,
     "start_time": "2022-09-03T19:56:24.322397",
     "status": "completed"
    },
    "tags": []
   },
   "source": [
    "### so far this is all matching what the internet told me. The rich and females had a much higher chance of survival than anyone else.\n",
    "\n",
    "Curious about the variance in that fare column..."
   ]
  },
  {
   "cell_type": "code",
   "execution_count": 9,
   "id": "3cd7c10e",
   "metadata": {
    "execution": {
     "iopub.execute_input": "2022-09-03T19:56:24.365099Z",
     "iopub.status.busy": "2022-09-03T19:56:24.364419Z",
     "iopub.status.idle": "2022-09-03T19:56:24.896085Z",
     "shell.execute_reply": "2022-09-03T19:56:24.895015Z"
    },
    "papermill": {
     "duration": 0.549158,
     "end_time": "2022-09-03T19:56:24.898602",
     "exception": false,
     "start_time": "2022-09-03T19:56:24.349444",
     "status": "completed"
    },
    "tags": []
   },
   "outputs": [
    {
     "data": {
      "text/plain": [
       "<AxesSubplot:xlabel='Fare', ylabel='Count'>"
      ]
     },
     "execution_count": 9,
     "metadata": {},
     "output_type": "execute_result"
    },
    {
     "data": {
      "image/png": "[encoded data removed]",
      "text/plain": [
       "<Figure size 936x576 with 1 Axes>"
      ]
     },
     "metadata": {},
     "output_type": "display_data"
    }
   ],
   "source": [
    "# I like a big chart\n",
    "\n",
    "sns.set(rc = {'figure.figsize':(13,8)})\n",
    "\n",
    "#fare price histo\n",
    "\n",
    "sns.histplot(data=df, x=\"Fare\")"
   ]
  },
  {
   "cell_type": "markdown",
   "id": "690a5c86",
   "metadata": {
    "papermill": {
     "duration": 0.0146,
     "end_time": "2022-09-03T19:56:24.927590",
     "exception": false,
     "start_time": "2022-09-03T19:56:24.912990",
     "status": "completed"
    },
    "tags": []
   },
   "source": [
    "# WTF why did someone pay 500 dollars for this trip"
   ]
  },
  {
   "cell_type": "code",
   "execution_count": 10,
   "id": "54775b1b",
   "metadata": {
    "execution": {
     "iopub.execute_input": "2022-09-03T19:56:24.959109Z",
     "iopub.status.busy": "2022-09-03T19:56:24.958404Z",
     "iopub.status.idle": "2022-09-03T19:56:24.970874Z",
     "shell.execute_reply": "2022-09-03T19:56:24.969822Z"
    },
    "papermill": {
     "duration": 0.030999,
     "end_time": "2022-09-03T19:56:24.973414",
     "exception": false,
     "start_time": "2022-09-03T19:56:24.942415",
     "status": "completed"
    },
    "tags": []
   },
   "outputs": [
    {
     "data": {
      "text/plain": [
       "count    891.000000\n",
       "mean      32.204208\n",
       "std       49.693429\n",
       "min        0.000000\n",
       "25%        7.910400\n",
       "50%       14.454200\n",
       "75%       31.000000\n",
       "max      512.329200\n",
       "Name: Fare, dtype: float64"
      ]
     },
     "execution_count": 10,
     "metadata": {},
     "output_type": "execute_result"
    }
   ],
   "source": [
    "df['Fare'].describe()"
   ]
  },
  {
   "cell_type": "markdown",
   "id": "689b9e70",
   "metadata": {
    "papermill": {
     "duration": 0.014309,
     "end_time": "2022-09-03T19:56:25.002901",
     "exception": false,
     "start_time": "2022-09-03T19:56:24.988592",
     "status": "completed"
    },
    "tags": []
   },
   "source": [
    "### Upon further research, 500 dollars is not even close to the most expensive ticket that was bought. According to Money.com, Charlotte Cardeza bought a ticket for 2500 bucks in \"back-then\" money. Insanity.\n",
    "\n",
    "Ok, enough poking around, lets start changing some stuff."
   ]
  },
  {
   "cell_type": "markdown",
   "id": "46c15723",
   "metadata": {
    "execution": {
     "iopub.execute_input": "2022-09-02T22:51:29.565345Z",
     "iopub.status.busy": "2022-09-02T22:51:29.564854Z",
     "iopub.status.idle": "2022-09-02T22:51:29.574508Z",
     "shell.execute_reply": "2022-09-02T22:51:29.572983Z",
     "shell.execute_reply.started": "2022-09-02T22:51:29.565305Z"
    },
    "papermill": {
     "duration": 0.013962,
     "end_time": "2022-09-03T19:56:25.031362",
     "exception": false,
     "start_time": "2022-09-03T19:56:25.017400",
     "status": "completed"
    },
    "tags": []
   },
   "source": [
    "# 2. WRANGLE/CLEAN"
   ]
  },
  {
   "cell_type": "markdown",
   "id": "b1a24286",
   "metadata": {
    "execution": {
     "iopub.execute_input": "2022-09-02T22:53:44.295213Z",
     "iopub.status.busy": "2022-09-02T22:53:44.294756Z",
     "iopub.status.idle": "2022-09-02T22:53:44.308171Z",
     "shell.execute_reply": "2022-09-02T22:53:44.306840Z",
     "shell.execute_reply.started": "2022-09-02T22:53:44.295176Z"
    },
    "papermill": {
     "duration": 0.014167,
     "end_time": "2022-09-03T19:56:25.060080",
     "exception": false,
     "start_time": "2022-09-03T19:56:25.045913",
     "status": "completed"
    },
    "tags": []
   },
   "source": [
    "### Goals and Checklist: \n",
    "1. Change male and female to 0 and 1 (*check*!)\n",
    "2. Change Embarked \"S,C,Q\" to \"1,2,3\", in order of most deaths per port (*check*!)\n",
    "3. Delete 'ticket' and 'name' columns (*check*!)\n",
    "4. Look a little more into 'Cabin' (*check*!)\n",
    "5. Address any nulls (*check*!)\n",
    "\n",
    "\n"
   ]
  },
  {
   "cell_type": "markdown",
   "id": "d5e344fa",
   "metadata": {
    "papermill": {
     "duration": 0.014105,
     "end_time": "2022-09-03T19:56:25.088518",
     "exception": false,
     "start_time": "2022-09-03T19:56:25.074413",
     "status": "completed"
    },
    "tags": []
   },
   "source": [
    "# 2.1"
   ]
  },
  {
   "cell_type": "code",
   "execution_count": 11,
   "id": "123dba59",
   "metadata": {
    "execution": {
     "iopub.execute_input": "2022-09-03T19:56:25.119131Z",
     "iopub.status.busy": "2022-09-03T19:56:25.118401Z",
     "iopub.status.idle": "2022-09-03T19:56:25.126149Z",
     "shell.execute_reply": "2022-09-03T19:56:25.125027Z"
    },
    "papermill": {
     "duration": 0.02565,
     "end_time": "2022-09-03T19:56:25.128368",
     "exception": false,
     "start_time": "2022-09-03T19:56:25.102718",
     "status": "completed"
    },
    "tags": []
   },
   "outputs": [],
   "source": [
    "# first change sex column\n",
    "\n",
    "df.loc[df['Sex'] == 'male', 'Sex'] = 0\n",
    "df.loc[df['Sex'] == 'female', 'Sex'] = 1"
   ]
  },
  {
   "cell_type": "code",
   "execution_count": 12,
   "id": "999e0bae",
   "metadata": {
    "execution": {
     "iopub.execute_input": "2022-09-03T19:56:25.158826Z",
     "iopub.status.busy": "2022-09-03T19:56:25.158093Z",
     "iopub.status.idle": "2022-09-03T19:56:25.166420Z",
     "shell.execute_reply": "2022-09-03T19:56:25.165317Z"
    },
    "papermill": {
     "duration": 0.026133,
     "end_time": "2022-09-03T19:56:25.168805",
     "exception": false,
     "start_time": "2022-09-03T19:56:25.142672",
     "status": "completed"
    },
    "tags": []
   },
   "outputs": [
    {
     "data": {
      "text/plain": [
       "0    577\n",
       "1    314\n",
       "Name: Sex, dtype: int64"
      ]
     },
     "execution_count": 12,
     "metadata": {},
     "output_type": "execute_result"
    }
   ],
   "source": [
    "df['Sex'].value_counts() # nice"
   ]
  },
  {
   "cell_type": "markdown",
   "id": "7b785b60",
   "metadata": {
    "papermill": {
     "duration": 0.014108,
     "end_time": "2022-09-03T19:56:25.197479",
     "exception": false,
     "start_time": "2022-09-03T19:56:25.183371",
     "status": "completed"
    },
    "tags": []
   },
   "source": [
    "# 2.2"
   ]
  },
  {
   "cell_type": "code",
   "execution_count": 13,
   "id": "a3e2435e",
   "metadata": {
    "execution": {
     "iopub.execute_input": "2022-09-03T19:56:25.228114Z",
     "iopub.status.busy": "2022-09-03T19:56:25.227447Z",
     "iopub.status.idle": "2022-09-03T19:56:25.236375Z",
     "shell.execute_reply": "2022-09-03T19:56:25.235194Z"
    },
    "papermill": {
     "duration": 0.026775,
     "end_time": "2022-09-03T19:56:25.238582",
     "exception": false,
     "start_time": "2022-09-03T19:56:25.211807",
     "status": "completed"
    },
    "tags": []
   },
   "outputs": [],
   "source": [
    "# change Embarked column: \n",
    "df.loc[df['Embarked'] == 'S', 'Embarked'] = 1\n",
    "df.loc[df['Embarked'] == 'C', 'Embarked'] = 2\n",
    "df.loc[df['Embarked'] == 'Q', 'Embarked'] = 3"
   ]
  },
  {
   "cell_type": "code",
   "execution_count": 14,
   "id": "c594abd5",
   "metadata": {
    "execution": {
     "iopub.execute_input": "2022-09-03T19:56:25.275989Z",
     "iopub.status.busy": "2022-09-03T19:56:25.274937Z",
     "iopub.status.idle": "2022-09-03T19:56:25.284598Z",
     "shell.execute_reply": "2022-09-03T19:56:25.283784Z"
    },
    "papermill": {
     "duration": 0.032097,
     "end_time": "2022-09-03T19:56:25.287693",
     "exception": false,
     "start_time": "2022-09-03T19:56:25.255596",
     "status": "completed"
    },
    "tags": []
   },
   "outputs": [
    {
     "data": {
      "text/plain": [
       "1    644\n",
       "2    168\n",
       "3     77\n",
       "Name: Embarked, dtype: int64"
      ]
     },
     "execution_count": 14,
     "metadata": {},
     "output_type": "execute_result"
    }
   ],
   "source": [
    "df['Embarked'].value_counts() # Niiiiice"
   ]
  },
  {
   "cell_type": "markdown",
   "id": "b25726a3",
   "metadata": {
    "papermill": {
     "duration": 0.0162,
     "end_time": "2022-09-03T19:56:25.327532",
     "exception": false,
     "start_time": "2022-09-03T19:56:25.311332",
     "status": "completed"
    },
    "tags": []
   },
   "source": [
    "# 2.3"
   ]
  },
  {
   "cell_type": "code",
   "execution_count": 15,
   "id": "d3d5062a",
   "metadata": {
    "execution": {
     "iopub.execute_input": "2022-09-03T19:56:25.365421Z",
     "iopub.status.busy": "2022-09-03T19:56:25.364759Z",
     "iopub.status.idle": "2022-09-03T19:56:25.369705Z",
     "shell.execute_reply": "2022-09-03T19:56:25.368445Z"
    },
    "papermill": {
     "duration": 0.024711,
     "end_time": "2022-09-03T19:56:25.372162",
     "exception": false,
     "start_time": "2022-09-03T19:56:25.347451",
     "status": "completed"
    },
    "tags": []
   },
   "outputs": [],
   "source": [
    "# get rid of name column\n",
    "del df['Name']"
   ]
  },
  {
   "cell_type": "code",
   "execution_count": 16,
   "id": "3bc457b2",
   "metadata": {
    "execution": {
     "iopub.execute_input": "2022-09-03T19:56:25.405317Z",
     "iopub.status.busy": "2022-09-03T19:56:25.404888Z",
     "iopub.status.idle": "2022-09-03T19:56:25.409749Z",
     "shell.execute_reply": "2022-09-03T19:56:25.408934Z"
    },
    "papermill": {
     "duration": 0.024247,
     "end_time": "2022-09-03T19:56:25.411993",
     "exception": false,
     "start_time": "2022-09-03T19:56:25.387746",
     "status": "completed"
    },
    "tags": []
   },
   "outputs": [],
   "source": [
    "# whoops also waanted to get rid of the ticket column\n",
    "del df['Ticket']"
   ]
  },
  {
   "cell_type": "code",
   "execution_count": 17,
   "id": "6b875c54",
   "metadata": {
    "execution": {
     "iopub.execute_input": "2022-09-03T19:56:25.444742Z",
     "iopub.status.busy": "2022-09-03T19:56:25.444086Z",
     "iopub.status.idle": "2022-09-03T19:56:25.459177Z",
     "shell.execute_reply": "2022-09-03T19:56:25.458271Z"
    },
    "papermill": {
     "duration": 0.034192,
     "end_time": "2022-09-03T19:56:25.461255",
     "exception": false,
     "start_time": "2022-09-03T19:56:25.427063",
     "status": "completed"
    },
    "tags": []
   },
   "outputs": [
    {
     "data": {
      "text/html": [
       "<div>\n",
       "<style scoped>\n",
       "    .dataframe tbody tr th:only-of-type {\n",
       "        vertical-align: middle;\n",
       "    }\n",
       "\n",
       "    .dataframe tbody tr th {\n",
       "        vertical-align: top;\n",
       "    }\n",
       "\n",
       "    .dataframe thead th {\n",
       "        text-align: right;\n",
       "    }\n",
       "</style>\n",
       "<table border=\"1\" class=\"dataframe\">\n",
       "  <thead>\n",
       "    <tr style=\"text-align: right;\">\n",
       "      <th></th>\n",
       "      <th>PassengerId</th>\n",
       "      <th>Survived</th>\n",
       "      <th>Pclass</th>\n",
       "      <th>Sex</th>\n",
       "      <th>Age</th>\n",
       "      <th>SibSp</th>\n",
       "      <th>Parch</th>\n",
       "      <th>Fare</th>\n",
       "      <th>Cabin</th>\n",
       "      <th>Embarked</th>\n",
       "    </tr>\n",
       "  </thead>\n",
       "  <tbody>\n",
       "    <tr>\n",
       "      <th>0</th>\n",
       "      <td>1</td>\n",
       "      <td>0</td>\n",
       "      <td>3</td>\n",
       "      <td>0</td>\n",
       "      <td>22.0</td>\n",
       "      <td>1</td>\n",
       "      <td>0</td>\n",
       "      <td>7.2500</td>\n",
       "      <td>NaN</td>\n",
       "      <td>1</td>\n",
       "    </tr>\n",
       "    <tr>\n",
       "      <th>1</th>\n",
       "      <td>2</td>\n",
       "      <td>1</td>\n",
       "      <td>1</td>\n",
       "      <td>1</td>\n",
       "      <td>38.0</td>\n",
       "      <td>1</td>\n",
       "      <td>0</td>\n",
       "      <td>71.2833</td>\n",
       "      <td>C85</td>\n",
       "      <td>2</td>\n",
       "    </tr>\n",
       "    <tr>\n",
       "      <th>2</th>\n",
       "      <td>3</td>\n",
       "      <td>1</td>\n",
       "      <td>3</td>\n",
       "      <td>1</td>\n",
       "      <td>26.0</td>\n",
       "      <td>0</td>\n",
       "      <td>0</td>\n",
       "      <td>7.9250</td>\n",
       "      <td>NaN</td>\n",
       "      <td>1</td>\n",
       "    </tr>\n",
       "    <tr>\n",
       "      <th>3</th>\n",
       "      <td>4</td>\n",
       "      <td>1</td>\n",
       "      <td>1</td>\n",
       "      <td>1</td>\n",
       "      <td>35.0</td>\n",
       "      <td>1</td>\n",
       "      <td>0</td>\n",
       "      <td>53.1000</td>\n",
       "      <td>C123</td>\n",
       "      <td>1</td>\n",
       "    </tr>\n",
       "    <tr>\n",
       "      <th>4</th>\n",
       "      <td>5</td>\n",
       "      <td>0</td>\n",
       "      <td>3</td>\n",
       "      <td>0</td>\n",
       "      <td>35.0</td>\n",
       "      <td>0</td>\n",
       "      <td>0</td>\n",
       "      <td>8.0500</td>\n",
       "      <td>NaN</td>\n",
       "      <td>1</td>\n",
       "    </tr>\n",
       "  </tbody>\n",
       "</table>\n",
       "</div>"
      ],
      "text/plain": [
       "   PassengerId  Survived  Pclass Sex   Age  SibSp  Parch     Fare Cabin  \\\n",
       "0            1         0       3   0  22.0      1      0   7.2500   NaN   \n",
       "1            2         1       1   1  38.0      1      0  71.2833   C85   \n",
       "2            3         1       3   1  26.0      0      0   7.9250   NaN   \n",
       "3            4         1       1   1  35.0      1      0  53.1000  C123   \n",
       "4            5         0       3   0  35.0      0      0   8.0500   NaN   \n",
       "\n",
       "  Embarked  \n",
       "0        1  \n",
       "1        2  \n",
       "2        1  \n",
       "3        1  \n",
       "4        1  "
      ]
     },
     "execution_count": 17,
     "metadata": {},
     "output_type": "execute_result"
    }
   ],
   "source": [
    "df.head() # niiiice"
   ]
  },
  {
   "cell_type": "markdown",
   "id": "384ef8dd",
   "metadata": {
    "papermill": {
     "duration": 0.014496,
     "end_time": "2022-09-03T19:56:25.491498",
     "exception": false,
     "start_time": "2022-09-03T19:56:25.477002",
     "status": "completed"
    },
    "tags": []
   },
   "source": [
    "# 2.4\n",
    "### I am hoping that the missing data in the cabin column is related to the class somehow. Im gonna divide class 3 from the rest and take a look."
   ]
  },
  {
   "cell_type": "code",
   "execution_count": 18,
   "id": "77c5dcbd",
   "metadata": {
    "execution": {
     "iopub.execute_input": "2022-09-03T19:56:25.523113Z",
     "iopub.status.busy": "2022-09-03T19:56:25.522381Z",
     "iopub.status.idle": "2022-09-03T19:56:25.528296Z",
     "shell.execute_reply": "2022-09-03T19:56:25.527339Z"
    },
    "papermill": {
     "duration": 0.024272,
     "end_time": "2022-09-03T19:56:25.530515",
     "exception": false,
     "start_time": "2022-09-03T19:56:25.506243",
     "status": "completed"
    },
    "tags": []
   },
   "outputs": [],
   "source": [
    "# new DF for 3rd class passengers\n",
    "df_poor = df[df['Pclass'] == 3]"
   ]
  },
  {
   "cell_type": "code",
   "execution_count": 19,
   "id": "7b489411",
   "metadata": {
    "execution": {
     "iopub.execute_input": "2022-09-03T19:56:25.562165Z",
     "iopub.status.busy": "2022-09-03T19:56:25.561788Z",
     "iopub.status.idle": "2022-09-03T19:56:25.570447Z",
     "shell.execute_reply": "2022-09-03T19:56:25.569481Z"
    },
    "papermill": {
     "duration": 0.02693,
     "end_time": "2022-09-03T19:56:25.572564",
     "exception": false,
     "start_time": "2022-09-03T19:56:25.545634",
     "status": "completed"
    },
    "tags": []
   },
   "outputs": [
    {
     "data": {
      "text/plain": [
       "PassengerId      0\n",
       "Survived         0\n",
       "Pclass           0\n",
       "Sex              0\n",
       "Age            136\n",
       "SibSp            0\n",
       "Parch            0\n",
       "Fare             0\n",
       "Cabin          479\n",
       "Embarked         0\n",
       "dtype: int64"
      ]
     },
     "execution_count": 19,
     "metadata": {},
     "output_type": "execute_result"
    }
   ],
   "source": [
    "df_poor.isnull().sum()"
   ]
  },
  {
   "cell_type": "code",
   "execution_count": 20,
   "id": "9e2a992a",
   "metadata": {
    "execution": {
     "iopub.execute_input": "2022-09-03T19:56:25.603983Z",
     "iopub.status.busy": "2022-09-03T19:56:25.603569Z",
     "iopub.status.idle": "2022-09-03T19:56:25.609794Z",
     "shell.execute_reply": "2022-09-03T19:56:25.608714Z"
    },
    "papermill": {
     "duration": 0.024687,
     "end_time": "2022-09-03T19:56:25.612090",
     "exception": false,
     "start_time": "2022-09-03T19:56:25.587403",
     "status": "completed"
    },
    "tags": []
   },
   "outputs": [],
   "source": [
    "# new DF for 2nd and 3rd class passengers\n",
    "df_not_poor = df[(df['Pclass'] == 1)  | (df['Pclass'] == 2)]"
   ]
  },
  {
   "cell_type": "code",
   "execution_count": 21,
   "id": "55285ecd",
   "metadata": {
    "execution": {
     "iopub.execute_input": "2022-09-03T19:56:25.644069Z",
     "iopub.status.busy": "2022-09-03T19:56:25.642974Z",
     "iopub.status.idle": "2022-09-03T19:56:25.652983Z",
     "shell.execute_reply": "2022-09-03T19:56:25.651899Z"
    },
    "papermill": {
     "duration": 0.028275,
     "end_time": "2022-09-03T19:56:25.655195",
     "exception": false,
     "start_time": "2022-09-03T19:56:25.626920",
     "status": "completed"
    },
    "tags": []
   },
   "outputs": [
    {
     "data": {
      "text/plain": [
       "PassengerId      0\n",
       "Survived         0\n",
       "Pclass           0\n",
       "Sex              0\n",
       "Age             41\n",
       "SibSp            0\n",
       "Parch            0\n",
       "Fare             0\n",
       "Cabin          208\n",
       "Embarked         2\n",
       "dtype: int64"
      ]
     },
     "execution_count": 21,
     "metadata": {},
     "output_type": "execute_result"
    }
   ],
   "source": [
    "df_not_poor.isnull().sum()"
   ]
  },
  {
   "cell_type": "markdown",
   "id": "eeee9bde",
   "metadata": {
    "papermill": {
     "duration": 0.014541,
     "end_time": "2022-09-03T19:56:25.684666",
     "exception": false,
     "start_time": "2022-09-03T19:56:25.670125",
     "status": "completed"
    },
    "tags": []
   },
   "source": [
    "## Theres a lot of missing data in the cabin column for all classes. Im just gonna remove that column altogether for now."
   ]
  },
  {
   "cell_type": "code",
   "execution_count": 22,
   "id": "19bea962",
   "metadata": {
    "execution": {
     "iopub.execute_input": "2022-09-03T19:56:25.716605Z",
     "iopub.status.busy": "2022-09-03T19:56:25.715967Z",
     "iopub.status.idle": "2022-09-03T19:56:25.720674Z",
     "shell.execute_reply": "2022-09-03T19:56:25.719586Z"
    },
    "papermill": {
     "duration": 0.023131,
     "end_time": "2022-09-03T19:56:25.722825",
     "exception": false,
     "start_time": "2022-09-03T19:56:25.699694",
     "status": "completed"
    },
    "tags": []
   },
   "outputs": [],
   "source": [
    "del df['Cabin']"
   ]
  },
  {
   "cell_type": "markdown",
   "id": "817ffb60",
   "metadata": {
    "papermill": {
     "duration": 0.014651,
     "end_time": "2022-09-03T19:56:25.752522",
     "exception": false,
     "start_time": "2022-09-03T19:56:25.737871",
     "status": "completed"
    },
    "tags": []
   },
   "source": [
    "# 2.5"
   ]
  },
  {
   "cell_type": "markdown",
   "id": "83069ae8",
   "metadata": {
    "papermill": {
     "duration": 0.014739,
     "end_time": "2022-09-03T19:56:25.782323",
     "exception": false,
     "start_time": "2022-09-03T19:56:25.767584",
     "status": "completed"
    },
    "tags": []
   },
   "source": [
    "## I noticed a lot of missing values in the age column..."
   ]
  },
  {
   "cell_type": "markdown",
   "id": "336fc9e9",
   "metadata": {
    "execution": {
     "iopub.execute_input": "2022-09-03T05:00:11.315433Z",
     "iopub.status.busy": "2022-09-03T05:00:11.314873Z",
     "iopub.status.idle": "2022-09-03T05:00:11.321139Z",
     "shell.execute_reply": "2022-09-03T05:00:11.319943Z",
     "shell.execute_reply.started": "2022-09-03T05:00:11.315390Z"
    },
    "papermill": {
     "duration": 0.014658,
     "end_time": "2022-09-03T19:56:25.811854",
     "exception": false,
     "start_time": "2022-09-03T19:56:25.797196",
     "status": "completed"
    },
    "tags": []
   },
   "source": [
    "## maybe I can impute averages for the missing data in the age column"
   ]
  },
  {
   "cell_type": "code",
   "execution_count": 23,
   "id": "6ece17b9",
   "metadata": {
    "execution": {
     "iopub.execute_input": "2022-09-03T19:56:25.843579Z",
     "iopub.status.busy": "2022-09-03T19:56:25.843170Z",
     "iopub.status.idle": "2022-09-03T19:56:26.205045Z",
     "shell.execute_reply": "2022-09-03T19:56:26.204273Z"
    },
    "papermill": {
     "duration": 0.380177,
     "end_time": "2022-09-03T19:56:26.207156",
     "exception": false,
     "start_time": "2022-09-03T19:56:25.826979",
     "status": "completed"
    },
    "tags": []
   },
   "outputs": [
    {
     "data": {
      "text/plain": [
       "<AxesSubplot:xlabel='Age', ylabel='Density'>"
      ]
     },
     "execution_count": 23,
     "metadata": {},
     "output_type": "execute_result"
    },
    {
     "data": {
      "image/png": "[encoded data removed]",
      "text/plain": [
       "<Figure size 936x576 with 1 Axes>"
      ]
     },
     "metadata": {},
     "output_type": "display_data"
    }
   ],
   "source": [
    "sns.distplot(df['Age'])"
   ]
  },
  {
   "cell_type": "markdown",
   "id": "e746f4e3",
   "metadata": {
    "papermill": {
     "duration": 0.015422,
     "end_time": "2022-09-03T19:56:26.238510",
     "exception": false,
     "start_time": "2022-09-03T19:56:26.223088",
     "status": "completed"
    },
    "tags": []
   },
   "source": [
    "### Looks like a kinda normal-enough curve. I just wanted to make sure that before we impute we arent pumping our data full of a bunch of highly skewed values. Let us check with math!"
   ]
  },
  {
   "cell_type": "code",
   "execution_count": 24,
   "id": "cfc48176",
   "metadata": {
    "execution": {
     "iopub.execute_input": "2022-09-03T19:56:26.272340Z",
     "iopub.status.busy": "2022-09-03T19:56:26.271276Z",
     "iopub.status.idle": "2022-09-03T19:56:26.278622Z",
     "shell.execute_reply": "2022-09-03T19:56:26.277271Z"
    },
    "papermill": {
     "duration": 0.026552,
     "end_time": "2022-09-03T19:56:26.280815",
     "exception": false,
     "start_time": "2022-09-03T19:56:26.254263",
     "status": "completed"
    },
    "tags": []
   },
   "outputs": [
    {
     "name": "stdout",
     "output_type": "stream",
     "text": [
      "stat=0.981, p=0.000\n",
      "\n",
      "Probably not Gaussian =/\n"
     ]
    }
   ],
   "source": [
    "# check for normal distribution\n",
    "stat, p = shapiro(df['Age'].dropna())\n",
    "print('stat=%.3f, p=%.3f\\n' % (stat, p))\n",
    "if p > 0.05:\n",
    "    print('Probably Gaussian =D')\n",
    "else:\n",
    "    print('Probably not Gaussian =/')"
   ]
  },
  {
   "cell_type": "markdown",
   "id": "0a6a5ddd",
   "metadata": {
    "papermill": {
     "duration": 0.015454,
     "end_time": "2022-09-03T19:56:26.312297",
     "exception": false,
     "start_time": "2022-09-03T19:56:26.296843",
     "status": "completed"
    },
    "tags": []
   },
   "source": [
    "### Noted. Im going to impute anyway for now, maybe this is something I can fiddle with in the future to see if it changes my accuracy."
   ]
  },
  {
   "cell_type": "code",
   "execution_count": 25,
   "id": "ccee6697",
   "metadata": {
    "execution": {
     "iopub.execute_input": "2022-09-03T19:56:26.345596Z",
     "iopub.status.busy": "2022-09-03T19:56:26.345189Z",
     "iopub.status.idle": "2022-09-03T19:56:26.355856Z",
     "shell.execute_reply": "2022-09-03T19:56:26.354741Z"
    },
    "papermill": {
     "duration": 0.030164,
     "end_time": "2022-09-03T19:56:26.358180",
     "exception": false,
     "start_time": "2022-09-03T19:56:26.328016",
     "status": "completed"
    },
    "tags": []
   },
   "outputs": [
    {
     "data": {
      "text/plain": [
       "count    714.000000\n",
       "mean      29.699118\n",
       "std       14.526497\n",
       "min        0.420000\n",
       "25%       20.125000\n",
       "50%       28.000000\n",
       "75%       38.000000\n",
       "max       80.000000\n",
       "Name: Age, dtype: float64"
      ]
     },
     "execution_count": 25,
     "metadata": {},
     "output_type": "execute_result"
    }
   ],
   "source": [
    "#FIND MEAN AGE\n",
    "\n",
    "df['Age'].describe()"
   ]
  },
  {
   "cell_type": "code",
   "execution_count": 26,
   "id": "7e5b14cb",
   "metadata": {
    "execution": {
     "iopub.execute_input": "2022-09-03T19:56:26.391596Z",
     "iopub.status.busy": "2022-09-03T19:56:26.391197Z",
     "iopub.status.idle": "2022-09-03T19:56:26.397824Z",
     "shell.execute_reply": "2022-09-03T19:56:26.396741Z"
    },
    "papermill": {
     "duration": 0.026101,
     "end_time": "2022-09-03T19:56:26.400283",
     "exception": false,
     "start_time": "2022-09-03T19:56:26.374182",
     "status": "completed"
    },
    "tags": []
   },
   "outputs": [],
   "source": [
    "# now impute main data set with this mean age\n",
    "df['Age'].fillna((df['Age'].mean()), inplace=True)"
   ]
  },
  {
   "cell_type": "code",
   "execution_count": 27,
   "id": "a19e09c9",
   "metadata": {
    "execution": {
     "iopub.execute_input": "2022-09-03T19:56:26.434853Z",
     "iopub.status.busy": "2022-09-03T19:56:26.434041Z",
     "iopub.status.idle": "2022-09-03T19:56:26.446019Z",
     "shell.execute_reply": "2022-09-03T19:56:26.445246Z"
    },
    "papermill": {
     "duration": 0.031405,
     "end_time": "2022-09-03T19:56:26.448025",
     "exception": false,
     "start_time": "2022-09-03T19:56:26.416620",
     "status": "completed"
    },
    "tags": []
   },
   "outputs": [
    {
     "data": {
      "text/plain": [
       "29.699118    177\n",
       "24.000000     30\n",
       "22.000000     27\n",
       "18.000000     26\n",
       "28.000000     25\n",
       "30.000000     25\n",
       "19.000000     25\n",
       "21.000000     24\n",
       "25.000000     23\n",
       "36.000000     22\n",
       "29.000000     20\n",
       "35.000000     18\n",
       "32.000000     18\n",
       "26.000000     18\n",
       "27.000000     18\n",
       "31.000000     17\n",
       "16.000000     17\n",
       "34.000000     15\n",
       "20.000000     15\n",
       "23.000000     15\n",
       "33.000000     15\n",
       "39.000000     14\n",
       "40.000000     13\n",
       "17.000000     13\n",
       "42.000000     13\n",
       "45.000000     12\n",
       "38.000000     11\n",
       "4.000000      10\n",
       "2.000000      10\n",
       "50.000000     10\n",
       "44.000000      9\n",
       "47.000000      9\n",
       "48.000000      9\n",
       "54.000000      8\n",
       "9.000000       8\n",
       "1.000000       7\n",
       "51.000000      7\n",
       "37.000000      6\n",
       "52.000000      6\n",
       "41.000000      6\n",
       "3.000000       6\n",
       "14.000000      6\n",
       "49.000000      6\n",
       "58.000000      5\n",
       "15.000000      5\n",
       "43.000000      5\n",
       "62.000000      4\n",
       "56.000000      4\n",
       "8.000000       4\n",
       "60.000000      4\n",
       "11.000000      4\n",
       "5.000000       4\n",
       "6.000000       3\n",
       "7.000000       3\n",
       "65.000000      3\n",
       "61.000000      3\n",
       "46.000000      3\n",
       "10.000000      2\n",
       "64.000000      2\n",
       "13.000000      2\n",
       "63.000000      2\n",
       "0.750000       2\n",
       "70.000000      2\n",
       "30.500000      2\n",
       "57.000000      2\n",
       "59.000000      2\n",
       "71.000000      2\n",
       "0.830000       2\n",
       "40.500000      2\n",
       "55.000000      2\n",
       "32.500000      2\n",
       "28.500000      2\n",
       "45.500000      2\n",
       "34.500000      1\n",
       "0.420000       1\n",
       "0.670000       1\n",
       "66.000000      1\n",
       "24.500000      1\n",
       "80.000000      1\n",
       "20.500000      1\n",
       "53.000000      1\n",
       "14.500000      1\n",
       "70.500000      1\n",
       "12.000000      1\n",
       "36.500000      1\n",
       "55.500000      1\n",
       "0.920000       1\n",
       "23.500000      1\n",
       "74.000000      1\n",
       "Name: Age, dtype: int64"
      ]
     },
     "execution_count": 27,
     "metadata": {},
     "output_type": "execute_result"
    }
   ],
   "source": [
    "df['Age'].value_counts() # lookin good"
   ]
  },
  {
   "cell_type": "code",
   "execution_count": 28,
   "id": "c271ddf3",
   "metadata": {
    "execution": {
     "iopub.execute_input": "2022-09-03T19:56:26.482546Z",
     "iopub.status.busy": "2022-09-03T19:56:26.481895Z",
     "iopub.status.idle": "2022-09-03T19:56:26.490445Z",
     "shell.execute_reply": "2022-09-03T19:56:26.489440Z"
    },
    "papermill": {
     "duration": 0.028435,
     "end_time": "2022-09-03T19:56:26.492708",
     "exception": false,
     "start_time": "2022-09-03T19:56:26.464273",
     "status": "completed"
    },
    "tags": []
   },
   "outputs": [
    {
     "data": {
      "text/plain": [
       "PassengerId    0\n",
       "Survived       0\n",
       "Pclass         0\n",
       "Sex            0\n",
       "Age            0\n",
       "SibSp          0\n",
       "Parch          0\n",
       "Fare           0\n",
       "Embarked       2\n",
       "dtype: int64"
      ]
     },
     "execution_count": 28,
     "metadata": {},
     "output_type": "execute_result"
    }
   ],
   "source": [
    "#Check for remaining NULLs\n",
    "\n",
    "df.isnull().sum()"
   ]
  },
  {
   "cell_type": "markdown",
   "id": "6369f197",
   "metadata": {
    "papermill": {
     "duration": 0.015793,
     "end_time": "2022-09-03T19:56:26.525331",
     "exception": false,
     "start_time": "2022-09-03T19:56:26.509538",
     "status": "completed"
    },
    "tags": []
   },
   "source": [
    "### 2 nulls remaininng in Embarked. Im just gonna drop those two."
   ]
  },
  {
   "cell_type": "code",
   "execution_count": 29,
   "id": "16289e00",
   "metadata": {
    "execution": {
     "iopub.execute_input": "2022-09-03T19:56:26.558923Z",
     "iopub.status.busy": "2022-09-03T19:56:26.558414Z",
     "iopub.status.idle": "2022-09-03T19:56:26.567064Z",
     "shell.execute_reply": "2022-09-03T19:56:26.566286Z"
    },
    "papermill": {
     "duration": 0.027874,
     "end_time": "2022-09-03T19:56:26.569148",
     "exception": false,
     "start_time": "2022-09-03T19:56:26.541274",
     "status": "completed"
    },
    "tags": []
   },
   "outputs": [],
   "source": [
    "#drop nulls\n",
    "\n",
    "df = df.dropna()"
   ]
  },
  {
   "cell_type": "code",
   "execution_count": 30,
   "id": "b2b05527",
   "metadata": {
    "execution": {
     "iopub.execute_input": "2022-09-03T19:56:26.603617Z",
     "iopub.status.busy": "2022-09-03T19:56:26.602704Z",
     "iopub.status.idle": "2022-09-03T19:56:26.611719Z",
     "shell.execute_reply": "2022-09-03T19:56:26.610985Z"
    },
    "papermill": {
     "duration": 0.028335,
     "end_time": "2022-09-03T19:56:26.613634",
     "exception": false,
     "start_time": "2022-09-03T19:56:26.585299",
     "status": "completed"
    },
    "tags": []
   },
   "outputs": [
    {
     "data": {
      "text/plain": [
       "PassengerId    0\n",
       "Survived       0\n",
       "Pclass         0\n",
       "Sex            0\n",
       "Age            0\n",
       "SibSp          0\n",
       "Parch          0\n",
       "Fare           0\n",
       "Embarked       0\n",
       "dtype: int64"
      ]
     },
     "execution_count": 30,
     "metadata": {},
     "output_type": "execute_result"
    }
   ],
   "source": [
    "df.isnull().sum()"
   ]
  },
  {
   "cell_type": "markdown",
   "id": "48b3a22e",
   "metadata": {
    "papermill": {
     "duration": 0.015741,
     "end_time": "2022-09-03T19:56:26.645366",
     "exception": false,
     "start_time": "2022-09-03T19:56:26.629625",
     "status": "completed"
    },
    "tags": []
   },
   "source": [
    "## Looking good, lets grow a random forest!"
   ]
  },
  {
   "cell_type": "markdown",
   "id": "4b032a04",
   "metadata": {
    "papermill": {
     "duration": 0.015811,
     "end_time": "2022-09-03T19:56:26.677311",
     "exception": false,
     "start_time": "2022-09-03T19:56:26.661500",
     "status": "completed"
    },
    "tags": []
   },
   "source": [
    "# 3. BUILD A MODEL"
   ]
  },
  {
   "cell_type": "markdown",
   "id": "4eaac963",
   "metadata": {
    "papermill": {
     "duration": 0.015654,
     "end_time": "2022-09-03T19:56:26.708997",
     "exception": false,
     "start_time": "2022-09-03T19:56:26.693343",
     "status": "completed"
    },
    "tags": []
   },
   "source": [
    "### First I want to split my (already split) data set so I can test without submitting the project. Then Ill make a new model that includes all the data, which should make it even better, and submit that."
   ]
  },
  {
   "cell_type": "code",
   "execution_count": 31,
   "id": "9f68eee5",
   "metadata": {
    "execution": {
     "iopub.execute_input": "2022-09-03T19:56:26.743208Z",
     "iopub.status.busy": "2022-09-03T19:56:26.742370Z",
     "iopub.status.idle": "2022-09-03T19:56:26.753331Z",
     "shell.execute_reply": "2022-09-03T19:56:26.752164Z"
    },
    "papermill": {
     "duration": 0.030815,
     "end_time": "2022-09-03T19:56:26.755729",
     "exception": false,
     "start_time": "2022-09-03T19:56:26.724914",
     "status": "completed"
    },
    "tags": []
   },
   "outputs": [],
   "source": [
    "# Splitting the data and creating a model\n",
    "\n",
    "\n",
    "X = df.drop(['Survived'], axis=1)\n",
    "y = df['Survived']\n",
    "X_train, X_test, y_train, y_test = train_test_split(X, y, stratify=y, test_size=0.3, random_state=100)\n",
    "\n",
    "forest = RandomForestClassifier(n_estimators=100, random_state=100)"
   ]
  },
  {
   "cell_type": "code",
   "execution_count": 32,
   "id": "79a1f026",
   "metadata": {
    "execution": {
     "iopub.execute_input": "2022-09-03T19:56:26.789812Z",
     "iopub.status.busy": "2022-09-03T19:56:26.789416Z",
     "iopub.status.idle": "2022-09-03T19:56:27.003403Z",
     "shell.execute_reply": "2022-09-03T19:56:27.002235Z"
    },
    "papermill": {
     "duration": 0.234358,
     "end_time": "2022-09-03T19:56:27.006081",
     "exception": false,
     "start_time": "2022-09-03T19:56:26.771723",
     "status": "completed"
    },
    "tags": []
   },
   "outputs": [],
   "source": [
    "# Fit the model and make predictions! \n",
    "forest.fit(X_train,y_train)\n",
    "predictions = forest.predict(X_test)"
   ]
  },
  {
   "cell_type": "code",
   "execution_count": 33,
   "id": "0089702d",
   "metadata": {
    "execution": {
     "iopub.execute_input": "2022-09-03T19:56:27.040268Z",
     "iopub.status.busy": "2022-09-03T19:56:27.039865Z",
     "iopub.status.idle": "2022-09-03T19:56:27.046293Z",
     "shell.execute_reply": "2022-09-03T19:56:27.045092Z"
    },
    "papermill": {
     "duration": 0.025936,
     "end_time": "2022-09-03T19:56:27.048459",
     "exception": false,
     "start_time": "2022-09-03T19:56:27.022523",
     "status": "completed"
    },
    "tags": []
   },
   "outputs": [
    {
     "name": "stdout",
     "output_type": "stream",
     "text": [
      "Accuracy: 0.8352059925093633\n"
     ]
    }
   ],
   "source": [
    "# check model accuracy\n",
    "print(\"Accuracy:\",metrics.accuracy_score(y_test, predictions))\n"
   ]
  },
  {
   "cell_type": "markdown",
   "id": "df7f6c1a",
   "metadata": {
    "papermill": {
     "duration": 0.016005,
     "end_time": "2022-09-03T19:56:27.080546",
     "exception": false,
     "start_time": "2022-09-03T19:56:27.064541",
     "status": "completed"
    },
    "tags": []
   },
   "source": [
    "## better than I had hoped!"
   ]
  },
  {
   "cell_type": "code",
   "execution_count": 34,
   "id": "00ef5aed",
   "metadata": {
    "execution": {
     "iopub.execute_input": "2022-09-03T19:56:27.114442Z",
     "iopub.status.busy": "2022-09-03T19:56:27.114085Z",
     "iopub.status.idle": "2022-09-03T19:56:27.125226Z",
     "shell.execute_reply": "2022-09-03T19:56:27.124173Z"
    },
    "papermill": {
     "duration": 0.030644,
     "end_time": "2022-09-03T19:56:27.127257",
     "exception": false,
     "start_time": "2022-09-03T19:56:27.096613",
     "status": "completed"
    },
    "tags": []
   },
   "outputs": [],
   "source": [
    "df_test.loc[df_test['Sex'] == 'male', 'Sex'] = 0\n",
    "df_test.loc[df_test['Sex'] == 'female', 'Sex'] = 1\n",
    "df_test.loc[df_test['Embarked'] == 'S', 'Embarked'] = 1\n",
    "df_test.loc[df_test['Embarked'] == 'C', 'Embarked'] = 2\n",
    "df_test.loc[df_test['Embarked'] == 'Q', 'Embarked'] = 3\n",
    "del df_test['Name']\n",
    "del df_test['Ticket']\n",
    "df_test['Age'].fillna((df_test['Age'].mean()), inplace=True)"
   ]
  },
  {
   "cell_type": "code",
   "execution_count": 35,
   "id": "8766d7b3",
   "metadata": {
    "execution": {
     "iopub.execute_input": "2022-09-03T19:56:27.160934Z",
     "iopub.status.busy": "2022-09-03T19:56:27.160575Z",
     "iopub.status.idle": "2022-09-03T19:56:27.168861Z",
     "shell.execute_reply": "2022-09-03T19:56:27.168110Z"
    },
    "papermill": {
     "duration": 0.02746,
     "end_time": "2022-09-03T19:56:27.170757",
     "exception": false,
     "start_time": "2022-09-03T19:56:27.143297",
     "status": "completed"
    },
    "tags": []
   },
   "outputs": [
    {
     "data": {
      "text/plain": [
       "PassengerId      0\n",
       "Pclass           0\n",
       "Sex              0\n",
       "Age              0\n",
       "SibSp            0\n",
       "Parch            0\n",
       "Fare             1\n",
       "Cabin          327\n",
       "Embarked         0\n",
       "dtype: int64"
      ]
     },
     "execution_count": 35,
     "metadata": {},
     "output_type": "execute_result"
    }
   ],
   "source": [
    "df_test.isnull().sum()"
   ]
  },
  {
   "cell_type": "code",
   "execution_count": 36,
   "id": "cca9136f",
   "metadata": {
    "execution": {
     "iopub.execute_input": "2022-09-03T19:56:27.205215Z",
     "iopub.status.busy": "2022-09-03T19:56:27.204485Z",
     "iopub.status.idle": "2022-09-03T19:56:27.208986Z",
     "shell.execute_reply": "2022-09-03T19:56:27.208274Z"
    },
    "papermill": {
     "duration": 0.024007,
     "end_time": "2022-09-03T19:56:27.210906",
     "exception": false,
     "start_time": "2022-09-03T19:56:27.186899",
     "status": "completed"
    },
    "tags": []
   },
   "outputs": [],
   "source": [
    "del df_test['Cabin']\n"
   ]
  },
  {
   "cell_type": "code",
   "execution_count": 37,
   "id": "39a177a7",
   "metadata": {
    "execution": {
     "iopub.execute_input": "2022-09-03T19:56:27.245146Z",
     "iopub.status.busy": "2022-09-03T19:56:27.244636Z",
     "iopub.status.idle": "2022-09-03T19:56:27.250466Z",
     "shell.execute_reply": "2022-09-03T19:56:27.249449Z"
    },
    "papermill": {
     "duration": 0.025375,
     "end_time": "2022-09-03T19:56:27.252456",
     "exception": false,
     "start_time": "2022-09-03T19:56:27.227081",
     "status": "completed"
    },
    "tags": []
   },
   "outputs": [],
   "source": [
    "df_test['Fare'].fillna((df_test['Fare'].mean()), inplace=True)"
   ]
  },
  {
   "cell_type": "code",
   "execution_count": 38,
   "id": "fca3a224",
   "metadata": {
    "execution": {
     "iopub.execute_input": "2022-09-03T19:56:27.307820Z",
     "iopub.status.busy": "2022-09-03T19:56:27.307137Z",
     "iopub.status.idle": "2022-09-03T19:56:27.316811Z",
     "shell.execute_reply": "2022-09-03T19:56:27.315759Z"
    },
    "papermill": {
     "duration": 0.050285,
     "end_time": "2022-09-03T19:56:27.318984",
     "exception": false,
     "start_time": "2022-09-03T19:56:27.268699",
     "status": "completed"
    },
    "tags": []
   },
   "outputs": [
    {
     "data": {
      "text/plain": [
       "PassengerId    0\n",
       "Pclass         0\n",
       "Sex            0\n",
       "Age            0\n",
       "SibSp          0\n",
       "Parch          0\n",
       "Fare           0\n",
       "Embarked       0\n",
       "dtype: int64"
      ]
     },
     "execution_count": 38,
     "metadata": {},
     "output_type": "execute_result"
    }
   ],
   "source": [
    "df_test.isnull().sum()"
   ]
  },
  {
   "cell_type": "code",
   "execution_count": 39,
   "id": "9119f162",
   "metadata": {
    "execution": {
     "iopub.execute_input": "2022-09-03T19:56:27.354269Z",
     "iopub.status.busy": "2022-09-03T19:56:27.353452Z",
     "iopub.status.idle": "2022-09-03T19:56:27.567289Z",
     "shell.execute_reply": "2022-09-03T19:56:27.566032Z"
    },
    "papermill": {
     "duration": 0.234172,
     "end_time": "2022-09-03T19:56:27.569585",
     "exception": false,
     "start_time": "2022-09-03T19:56:27.335413",
     "status": "completed"
    },
    "tags": []
   },
   "outputs": [
    {
     "name": "stdout",
     "output_type": "stream",
     "text": [
      "Your submission was successfully saved!\n"
     ]
    }
   ],
   "source": [
    "y = df[\"Survived\"]\n",
    "\n",
    "features = [\"Pclass\", \"Sex\", 'Age', \"SibSp\", \"Parch\", \"Fare\", \"Embarked\"]\n",
    "X = pd.get_dummies(df[features])\n",
    "X_test = pd.get_dummies(df_test[features])\n",
    "\n",
    "model = RandomForestClassifier(n_estimators=100, max_depth=5, random_state=1)\n",
    "model.fit(X, y)\n",
    "predictions = model.predict(X_test)\n",
    "\n",
    "output = pd.DataFrame({'PassengerId': df_test.PassengerId, 'Survived': predictions})\n",
    "output.to_csv('submission.csv', index=False)\n",
    "print(\"Your submission was successfully saved!\")"
   ]
  },
  {
   "cell_type": "code",
   "execution_count": 40,
   "id": "970e28ce",
   "metadata": {
    "execution": {
     "iopub.execute_input": "2022-09-03T19:56:27.604501Z",
     "iopub.status.busy": "2022-09-03T19:56:27.603547Z",
     "iopub.status.idle": "2022-09-03T19:56:27.619066Z",
     "shell.execute_reply": "2022-09-03T19:56:27.617992Z"
    },
    "papermill": {
     "duration": 0.035505,
     "end_time": "2022-09-03T19:56:27.621538",
     "exception": false,
     "start_time": "2022-09-03T19:56:27.586033",
     "status": "completed"
    },
    "tags": []
   },
   "outputs": [
    {
     "data": {
      "text/html": [
       "<div>\n",
       "<style scoped>\n",
       "    .dataframe tbody tr th:only-of-type {\n",
       "        vertical-align: middle;\n",
       "    }\n",
       "\n",
       "    .dataframe tbody tr th {\n",
       "        vertical-align: top;\n",
       "    }\n",
       "\n",
       "    .dataframe thead th {\n",
       "        text-align: right;\n",
       "    }\n",
       "</style>\n",
       "<table border=\"1\" class=\"dataframe\">\n",
       "  <thead>\n",
       "    <tr style=\"text-align: right;\">\n",
       "      <th></th>\n",
       "      <th>PassengerId</th>\n",
       "      <th>Survived</th>\n",
       "      <th>Pclass</th>\n",
       "      <th>Sex</th>\n",
       "      <th>Age</th>\n",
       "      <th>SibSp</th>\n",
       "      <th>Parch</th>\n",
       "      <th>Fare</th>\n",
       "      <th>Embarked</th>\n",
       "    </tr>\n",
       "  </thead>\n",
       "  <tbody>\n",
       "    <tr>\n",
       "      <th>0</th>\n",
       "      <td>1</td>\n",
       "      <td>0</td>\n",
       "      <td>3</td>\n",
       "      <td>0</td>\n",
       "      <td>22.0</td>\n",
       "      <td>1</td>\n",
       "      <td>0</td>\n",
       "      <td>7.2500</td>\n",
       "      <td>1</td>\n",
       "    </tr>\n",
       "    <tr>\n",
       "      <th>1</th>\n",
       "      <td>2</td>\n",
       "      <td>1</td>\n",
       "      <td>1</td>\n",
       "      <td>1</td>\n",
       "      <td>38.0</td>\n",
       "      <td>1</td>\n",
       "      <td>0</td>\n",
       "      <td>71.2833</td>\n",
       "      <td>2</td>\n",
       "    </tr>\n",
       "    <tr>\n",
       "      <th>2</th>\n",
       "      <td>3</td>\n",
       "      <td>1</td>\n",
       "      <td>3</td>\n",
       "      <td>1</td>\n",
       "      <td>26.0</td>\n",
       "      <td>0</td>\n",
       "      <td>0</td>\n",
       "      <td>7.9250</td>\n",
       "      <td>1</td>\n",
       "    </tr>\n",
       "    <tr>\n",
       "      <th>3</th>\n",
       "      <td>4</td>\n",
       "      <td>1</td>\n",
       "      <td>1</td>\n",
       "      <td>1</td>\n",
       "      <td>35.0</td>\n",
       "      <td>1</td>\n",
       "      <td>0</td>\n",
       "      <td>53.1000</td>\n",
       "      <td>1</td>\n",
       "    </tr>\n",
       "    <tr>\n",
       "      <th>4</th>\n",
       "      <td>5</td>\n",
       "      <td>0</td>\n",
       "      <td>3</td>\n",
       "      <td>0</td>\n",
       "      <td>35.0</td>\n",
       "      <td>0</td>\n",
       "      <td>0</td>\n",
       "      <td>8.0500</td>\n",
       "      <td>1</td>\n",
       "    </tr>\n",
       "  </tbody>\n",
       "</table>\n",
       "</div>"
      ],
      "text/plain": [
       "   PassengerId  Survived  Pclass Sex   Age  SibSp  Parch     Fare Embarked\n",
       "0            1         0       3   0  22.0      1      0   7.2500        1\n",
       "1            2         1       1   1  38.0      1      0  71.2833        2\n",
       "2            3         1       3   1  26.0      0      0   7.9250        1\n",
       "3            4         1       1   1  35.0      1      0  53.1000        1\n",
       "4            5         0       3   0  35.0      0      0   8.0500        1"
      ]
     },
     "execution_count": 40,
     "metadata": {},
     "output_type": "execute_result"
    }
   ],
   "source": [
    "df.head()"
   ]
  },
  {
   "cell_type": "code",
   "execution_count": null,
   "id": "66fd26e5",
   "metadata": {
    "papermill": {
     "duration": 0.016184,
     "end_time": "2022-09-03T19:56:27.654360",
     "exception": false,
     "start_time": "2022-09-03T19:56:27.638176",
     "status": "completed"
    },
    "tags": []
   },
   "outputs": [],
   "source": []
  },
  {
   "cell_type": "code",
   "execution_count": null,
   "id": "7625bd7c",
   "metadata": {
    "papermill": {
     "duration": 0.016228,
     "end_time": "2022-09-03T19:56:27.687093",
     "exception": false,
     "start_time": "2022-09-03T19:56:27.670865",
     "status": "completed"
    },
    "tags": []
   },
   "outputs": [],
   "source": []
  }
 ],
 "metadata": {
  "kernelspec": {
   "display_name": "Python 3",
   "language": "python",
   "name": "python3"
  },
  "language_info": {
   "codemirror_mode": {
    "name": "ipython",
    "version": 3
   },
   "file_extension": ".py",
   "mimetype": "text/x-python",
   "name": "python",
   "nbconvert_exporter": "python",
   "pygments_lexer": "ipython3",
   "version": "3.7.12"
  },
  "papermill": {
   "default_parameters": {},
   "duration": 15.107028,
   "end_time": "2022-09-03T19:56:28.425451",
   "environment_variables": {},
   "exception": null,
   "input_path": "__notebook__.ipynb",
   "output_path": "__notebook__.ipynb",
   "parameters": {},
   "start_time": "2022-09-03T19:56:13.318423",
   "version": "2.3.4"
  }
 },
 "nbformat": 4,
 "nbformat_minor": 5
}
