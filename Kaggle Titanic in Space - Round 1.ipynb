{
 "cells": [
  {
   "cell_type": "code",
   "execution_count": 1,
   "id": "fa8ad8de",
   "metadata": {},
   "outputs": [],
   "source": [
    "import numpy as np \n",
    "import pandas as pd \n",
    "import seaborn as sns\n",
    "import matplotlib\n",
    "import matplotlib.pyplot as plt\n",
    "import os\n",
    "import sklearn\n",
    "from scipy.stats import shapiro\n",
    "pd.set_option('display.max_rows', 500)\n",
    "import warnings; warnings.simplefilter('ignore')\n",
    "from sklearn import metrics\n",
    "from sklearn.model_selection import train_test_split\n",
    "from sklearn.ensemble import RandomForestClassifier\n",
    "import random"
   ]
  },
  {
   "cell_type": "markdown",
   "id": "99a823e5",
   "metadata": {},
   "source": [
    "# 1. IMPORT"
   ]
  },
  {
   "cell_type": "code",
   "execution_count": 2,
   "id": "ac797faa",
   "metadata": {},
   "outputs": [],
   "source": [
    "path = r'/Users/bryanleavelle/DATA PROJECTS/TATANIC_SPACESHIP/DATA/'"
   ]
  },
  {
   "cell_type": "code",
   "execution_count": 3,
   "id": "712dd609",
   "metadata": {},
   "outputs": [],
   "source": [
    "path2 = r'/Users/bryanleavelle/DATA PROJECTS/'"
   ]
  },
  {
   "cell_type": "code",
   "execution_count": 4,
   "id": "1320c194",
   "metadata": {},
   "outputs": [],
   "source": [
    "df_train = pd.read_csv(os.path.join(path, 'train.csv'))"
   ]
  },
  {
   "cell_type": "code",
   "execution_count": 5,
   "id": "ca051cc3",
   "metadata": {},
   "outputs": [],
   "source": [
    "df_test = pd.read_csv(os.path.join(path, 'test.csv'))"
   ]
  },
  {
   "cell_type": "markdown",
   "id": "1fe1991e",
   "metadata": {},
   "source": [
    "### I want to be able to manipulate the test and train data at the same time so that I dont have to go back and do everything over to the test set when I am ready to run my model. So first I am going to add an indicator coloumn that keeps track of what is training data and what is test data, then merge the tables together."
   ]
  },
  {
   "cell_type": "code",
   "execution_count": 6,
   "id": "d1593ab9",
   "metadata": {},
   "outputs": [],
   "source": [
    "# add column in test data\n",
    "df_test[\"Type\"] = 'Test'"
   ]
  },
  {
   "cell_type": "code",
   "execution_count": 7,
   "id": "c4cbc9f6",
   "metadata": {},
   "outputs": [],
   "source": [
    "# add column it train data\n",
    "df_train['Type'] = 'Train'"
   ]
  },
  {
   "cell_type": "code",
   "execution_count": 8,
   "id": "3b90fbc9",
   "metadata": {},
   "outputs": [],
   "source": [
    "#concat columns\n",
    "df_train = pd.concat([df_test, df_train], ignore_index=True)"
   ]
  },
  {
   "cell_type": "markdown",
   "id": "1dcd408c",
   "metadata": {},
   "source": [
    "# 2. POKIN' AROUND"
   ]
  },
  {
   "cell_type": "code",
   "execution_count": 9,
   "id": "649a753e",
   "metadata": {},
   "outputs": [
    {
     "data": {
      "text/plain": [
       "count    12707.000000\n",
       "mean       222.897852\n",
       "std        647.596664\n",
       "min          0.000000\n",
       "25%          0.000000\n",
       "50%          0.000000\n",
       "75%         49.000000\n",
       "max      14327.000000\n",
       "Name: RoomService, dtype: float64"
      ]
     },
     "execution_count": 9,
     "metadata": {},
     "output_type": "execute_result"
    }
   ],
   "source": [
    "df_train['RoomService'].describe()\n"
   ]
  },
  {
   "cell_type": "code",
   "execution_count": 10,
   "id": "a9163fd7",
   "metadata": {},
   "outputs": [
    {
     "data": {
      "text/plain": [
       "count    12664.000000\n",
       "mean       174.906033\n",
       "std        590.558690\n",
       "min          0.000000\n",
       "25%          0.000000\n",
       "50%          0.000000\n",
       "75%         29.000000\n",
       "max      23492.000000\n",
       "Name: ShoppingMall, dtype: float64"
      ]
     },
     "execution_count": 10,
     "metadata": {},
     "output_type": "execute_result"
    }
   ],
   "source": [
    "df_train['ShoppingMall'].describe()"
   ]
  },
  {
   "cell_type": "code",
   "execution_count": 11,
   "id": "aa48d9dd",
   "metadata": {},
   "outputs": [],
   "source": [
    "\n",
    "sns.set(rc = {'figure.figsize':(10,6)})\n"
   ]
  },
  {
   "cell_type": "code",
   "execution_count": 12,
   "id": "26e20645",
   "metadata": {},
   "outputs": [],
   "source": [
    "# do cryo people get transported more often or less?\n",
    "\n",
    "crosstab1= pd.crosstab(df_train['CryoSleep'], df_train['Transported'], dropna = False)"
   ]
  },
  {
   "cell_type": "code",
   "execution_count": 13,
   "id": "8678f510",
   "metadata": {},
   "outputs": [
    {
     "data": {
      "text/html": [
       "<div>\n",
       "<style scoped>\n",
       "    .dataframe tbody tr th:only-of-type {\n",
       "        vertical-align: middle;\n",
       "    }\n",
       "\n",
       "    .dataframe tbody tr th {\n",
       "        vertical-align: top;\n",
       "    }\n",
       "\n",
       "    .dataframe thead th {\n",
       "        text-align: right;\n",
       "    }\n",
       "</style>\n",
       "<table border=\"1\" class=\"dataframe\">\n",
       "  <thead>\n",
       "    <tr style=\"text-align: right;\">\n",
       "      <th>Transported</th>\n",
       "      <th>False</th>\n",
       "      <th>True</th>\n",
       "    </tr>\n",
       "    <tr>\n",
       "      <th>CryoSleep</th>\n",
       "      <th></th>\n",
       "      <th></th>\n",
       "    </tr>\n",
       "  </thead>\n",
       "  <tbody>\n",
       "    <tr>\n",
       "      <th>False</th>\n",
       "      <td>3650</td>\n",
       "      <td>1789</td>\n",
       "    </tr>\n",
       "    <tr>\n",
       "      <th>True</th>\n",
       "      <td>554</td>\n",
       "      <td>2483</td>\n",
       "    </tr>\n",
       "  </tbody>\n",
       "</table>\n",
       "</div>"
      ],
      "text/plain": [
       "Transported  False  True\n",
       "CryoSleep               \n",
       "False         3650  1789\n",
       "True           554  2483"
      ]
     },
     "execution_count": 13,
     "metadata": {},
     "output_type": "execute_result"
    }
   ],
   "source": [
    "crosstab1"
   ]
  },
  {
   "cell_type": "markdown",
   "id": "d42ecda0",
   "metadata": {},
   "source": [
    "Most of Those not in cryo were not transported<br>\n",
    "Most of Those who were in cryo were transported"
   ]
  },
  {
   "cell_type": "code",
   "execution_count": 14,
   "id": "90d6150e",
   "metadata": {},
   "outputs": [],
   "source": [
    "# any relationship between HomePlanet and Transport?\n",
    "\n",
    "crosstab2= pd.crosstab(df_train['HomePlanet'], df_train['Transported'], dropna = False)"
   ]
  },
  {
   "cell_type": "code",
   "execution_count": 15,
   "id": "b1c531ad",
   "metadata": {},
   "outputs": [
    {
     "data": {
      "text/html": [
       "<div>\n",
       "<style scoped>\n",
       "    .dataframe tbody tr th:only-of-type {\n",
       "        vertical-align: middle;\n",
       "    }\n",
       "\n",
       "    .dataframe tbody tr th {\n",
       "        vertical-align: top;\n",
       "    }\n",
       "\n",
       "    .dataframe thead th {\n",
       "        text-align: right;\n",
       "    }\n",
       "</style>\n",
       "<table border=\"1\" class=\"dataframe\">\n",
       "  <thead>\n",
       "    <tr style=\"text-align: right;\">\n",
       "      <th>Transported</th>\n",
       "      <th>False</th>\n",
       "      <th>True</th>\n",
       "    </tr>\n",
       "    <tr>\n",
       "      <th>HomePlanet</th>\n",
       "      <th></th>\n",
       "      <th></th>\n",
       "    </tr>\n",
       "  </thead>\n",
       "  <tbody>\n",
       "    <tr>\n",
       "      <th>Earth</th>\n",
       "      <td>2651</td>\n",
       "      <td>1951</td>\n",
       "    </tr>\n",
       "    <tr>\n",
       "      <th>Europa</th>\n",
       "      <td>727</td>\n",
       "      <td>1404</td>\n",
       "    </tr>\n",
       "    <tr>\n",
       "      <th>Mars</th>\n",
       "      <td>839</td>\n",
       "      <td>920</td>\n",
       "    </tr>\n",
       "  </tbody>\n",
       "</table>\n",
       "</div>"
      ],
      "text/plain": [
       "Transported  False  True\n",
       "HomePlanet              \n",
       "Earth         2651  1951\n",
       "Europa         727  1404\n",
       "Mars           839   920"
      ]
     },
     "execution_count": 15,
     "metadata": {},
     "output_type": "execute_result"
    }
   ],
   "source": [
    "crosstab2"
   ]
  },
  {
   "cell_type": "markdown",
   "id": "e188c093",
   "metadata": {},
   "source": [
    "Hard to tell..."
   ]
  },
  {
   "cell_type": "code",
   "execution_count": 16,
   "id": "adda0d1a",
   "metadata": {},
   "outputs": [],
   "source": [
    "# any relationship between destination and transported?\n",
    "\n",
    "crosstab3= pd.crosstab(df_train['Destination'], df_train['Transported'], dropna = False)"
   ]
  },
  {
   "cell_type": "code",
   "execution_count": 17,
   "id": "58d9f68e",
   "metadata": {},
   "outputs": [
    {
     "data": {
      "text/html": [
       "<div>\n",
       "<style scoped>\n",
       "    .dataframe tbody tr th:only-of-type {\n",
       "        vertical-align: middle;\n",
       "    }\n",
       "\n",
       "    .dataframe tbody tr th {\n",
       "        vertical-align: top;\n",
       "    }\n",
       "\n",
       "    .dataframe thead th {\n",
       "        text-align: right;\n",
       "    }\n",
       "</style>\n",
       "<table border=\"1\" class=\"dataframe\">\n",
       "  <thead>\n",
       "    <tr style=\"text-align: right;\">\n",
       "      <th>Transported</th>\n",
       "      <th>False</th>\n",
       "      <th>True</th>\n",
       "    </tr>\n",
       "    <tr>\n",
       "      <th>Destination</th>\n",
       "      <th></th>\n",
       "      <th></th>\n",
       "    </tr>\n",
       "  </thead>\n",
       "  <tbody>\n",
       "    <tr>\n",
       "      <th>55 Cancri e</th>\n",
       "      <td>702</td>\n",
       "      <td>1098</td>\n",
       "    </tr>\n",
       "    <tr>\n",
       "      <th>PSO J318.5-22</th>\n",
       "      <td>395</td>\n",
       "      <td>401</td>\n",
       "    </tr>\n",
       "    <tr>\n",
       "      <th>TRAPPIST-1e</th>\n",
       "      <td>3128</td>\n",
       "      <td>2787</td>\n",
       "    </tr>\n",
       "  </tbody>\n",
       "</table>\n",
       "</div>"
      ],
      "text/plain": [
       "Transported    False  True\n",
       "Destination               \n",
       "55 Cancri e      702  1098\n",
       "PSO J318.5-22    395   401\n",
       "TRAPPIST-1e     3128  2787"
      ]
     },
     "execution_count": 17,
     "metadata": {},
     "output_type": "execute_result"
    }
   ],
   "source": [
    "crosstab3"
   ]
  },
  {
   "cell_type": "code",
   "execution_count": 18,
   "id": "222de44e",
   "metadata": {
    "scrolled": false
   },
   "outputs": [
    {
     "data": {
      "text/html": [
       "<div>\n",
       "<style scoped>\n",
       "    .dataframe tbody tr th:only-of-type {\n",
       "        vertical-align: middle;\n",
       "    }\n",
       "\n",
       "    .dataframe tbody tr th {\n",
       "        vertical-align: top;\n",
       "    }\n",
       "\n",
       "    .dataframe thead th {\n",
       "        text-align: right;\n",
       "    }\n",
       "</style>\n",
       "<table border=\"1\" class=\"dataframe\">\n",
       "  <thead>\n",
       "    <tr style=\"text-align: right;\">\n",
       "      <th>Transported</th>\n",
       "      <th>False</th>\n",
       "      <th>True</th>\n",
       "    </tr>\n",
       "    <tr>\n",
       "      <th>VIP</th>\n",
       "      <th></th>\n",
       "      <th></th>\n",
       "    </tr>\n",
       "  </thead>\n",
       "  <tbody>\n",
       "    <tr>\n",
       "      <th>False</th>\n",
       "      <td>4093</td>\n",
       "      <td>4198</td>\n",
       "    </tr>\n",
       "    <tr>\n",
       "      <th>True</th>\n",
       "      <td>123</td>\n",
       "      <td>76</td>\n",
       "    </tr>\n",
       "  </tbody>\n",
       "</table>\n",
       "</div>"
      ],
      "text/plain": [
       "Transported  False  True\n",
       "VIP                     \n",
       "False         4093  4198\n",
       "True           123    76"
      ]
     },
     "execution_count": 18,
     "metadata": {},
     "output_type": "execute_result"
    }
   ],
   "source": [
    "# VIPs vs transported\n",
    "\n",
    "crosstab5= pd.crosstab(df_train['VIP'], df_train['Transported'], dropna = False)\n",
    "crosstab5"
   ]
  },
  {
   "cell_type": "code",
   "execution_count": 19,
   "id": "fbec1585",
   "metadata": {},
   "outputs": [
    {
     "data": {
      "image/png": "[encoded data removed]",
      "text/plain": [
       "<Figure size 1000x600 with 1 Axes>"
      ]
     },
     "metadata": {},
     "output_type": "display_data"
    }
   ],
   "source": [
    "barplot = crosstab1.plot.bar(rot=0)"
   ]
  },
  {
   "cell_type": "code",
   "execution_count": 20,
   "id": "81053aac",
   "metadata": {},
   "outputs": [
    {
     "data": {
      "image/png": "[encoded data removed]",
      "text/plain": [
       "<Figure size 1000x600 with 1 Axes>"
      ]
     },
     "metadata": {},
     "output_type": "display_data"
    }
   ],
   "source": [
    "barplot2 = crosstab2.plot.bar(rot=0)"
   ]
  },
  {
   "cell_type": "code",
   "execution_count": 21,
   "id": "79dd1f76",
   "metadata": {},
   "outputs": [
    {
     "data": {
      "image/png": "[encoded data removed]",
      "text/plain": [
       "<Figure size 1000x600 with 1 Axes>"
      ]
     },
     "metadata": {},
     "output_type": "display_data"
    }
   ],
   "source": [
    "barplot3 = crosstab3.plot.bar(rot=0)"
   ]
  },
  {
   "cell_type": "markdown",
   "id": "3e7ced23",
   "metadata": {},
   "source": [
    "# 3. WRANGLE AND CLEAN"
   ]
  },
  {
   "cell_type": "markdown",
   "id": "7c439817",
   "metadata": {},
   "source": [
    "home planet = 1. earth, 2.europa, 3.mars (CHECK) <br>\n",
    "destination = 1.trappist1, 2.cancri, 3.PSO (CHECK)<br>\n",
    "vip = 1.true, 0.false (CHECK)<br>\n",
    "cryo = 1.tru, 0.false (CHECK) <br>\n",
    "transported = 1.true, 0.false (CHECK)<br>"
   ]
  },
  {
   "cell_type": "code",
   "execution_count": 22,
   "id": "d74f95f6",
   "metadata": {},
   "outputs": [],
   "source": [
    "# Change cryosleep to 1 and 0's\n",
    "\n",
    "df_train.loc[df_train['CryoSleep'] == True, 'CryoSleep'] = 1\n",
    "df_train.loc[df_train['CryoSleep'] == False, 'CryoSleep'] = 0"
   ]
  },
  {
   "cell_type": "code",
   "execution_count": 23,
   "id": "938df814",
   "metadata": {},
   "outputs": [],
   "source": [
    "# Change transported to 1's and 0's\n",
    "\n",
    "df_train.loc[df_train['Transported'] == True, 'Transported'] = 1\n",
    "df_train.loc[df_train['Transported'] == False, 'Transported'] = 0"
   ]
  },
  {
   "cell_type": "code",
   "execution_count": 24,
   "id": "c0264eef",
   "metadata": {},
   "outputs": [],
   "source": [
    "# Change HomePPlanet to numerical\n",
    "\n",
    "df_train.loc[df_train['HomePlanet'] == 'Earth', 'HomePlanet'] = 1\n",
    "df_train.loc[df_train['HomePlanet'] == 'Europa', 'HomePlanet'] = 2\n",
    "df_train.loc[df_train['HomePlanet'] == 'Mars', 'HomePlanet'] = 3"
   ]
  },
  {
   "cell_type": "code",
   "execution_count": 25,
   "id": "16256d12",
   "metadata": {},
   "outputs": [],
   "source": [
    "# Change VIP to numerical\n",
    "\n",
    "df_train.loc[df_train['VIP'] == True, 'VIP'] = 1\n",
    "df_train.loc[df_train['VIP'] == False, 'VIP'] = 0"
   ]
  },
  {
   "cell_type": "code",
   "execution_count": 26,
   "id": "52b83931",
   "metadata": {},
   "outputs": [],
   "source": [
    "# change destination to numerical\n",
    "\n",
    "df_train.loc[df_train['Destination'] == 'TRAPPIST-1e', 'Destination'] = 1\n",
    "df_train.loc[df_train['Destination'] == '55 Cancri e', 'Destination'] = 2\n",
    "df_train.loc[df_train['Destination'] == 'PSO J318.5-22', 'Destination'] = 3"
   ]
  },
  {
   "cell_type": "code",
   "execution_count": 27,
   "id": "fadf42c9",
   "metadata": {},
   "outputs": [],
   "source": [
    "# split cabin so deck and side of ship can be analyzed sperately\n",
    "\n",
    "cabin_split = df_train['Cabin'].str.split('/', expand=True)"
   ]
  },
  {
   "cell_type": "code",
   "execution_count": 28,
   "id": "385b61e6",
   "metadata": {},
   "outputs": [
    {
     "data": {
      "text/html": [
       "<div>\n",
       "<style scoped>\n",
       "    .dataframe tbody tr th:only-of-type {\n",
       "        vertical-align: middle;\n",
       "    }\n",
       "\n",
       "    .dataframe tbody tr th {\n",
       "        vertical-align: top;\n",
       "    }\n",
       "\n",
       "    .dataframe thead th {\n",
       "        text-align: right;\n",
       "    }\n",
       "</style>\n",
       "<table border=\"1\" class=\"dataframe\">\n",
       "  <thead>\n",
       "    <tr style=\"text-align: right;\">\n",
       "      <th></th>\n",
       "      <th>0</th>\n",
       "      <th>1</th>\n",
       "      <th>2</th>\n",
       "    </tr>\n",
       "  </thead>\n",
       "  <tbody>\n",
       "    <tr>\n",
       "      <th>0</th>\n",
       "      <td>G</td>\n",
       "      <td>3</td>\n",
       "      <td>S</td>\n",
       "    </tr>\n",
       "    <tr>\n",
       "      <th>1</th>\n",
       "      <td>F</td>\n",
       "      <td>4</td>\n",
       "      <td>S</td>\n",
       "    </tr>\n",
       "    <tr>\n",
       "      <th>2</th>\n",
       "      <td>C</td>\n",
       "      <td>0</td>\n",
       "      <td>S</td>\n",
       "    </tr>\n",
       "    <tr>\n",
       "      <th>3</th>\n",
       "      <td>C</td>\n",
       "      <td>1</td>\n",
       "      <td>S</td>\n",
       "    </tr>\n",
       "    <tr>\n",
       "      <th>4</th>\n",
       "      <td>F</td>\n",
       "      <td>5</td>\n",
       "      <td>S</td>\n",
       "    </tr>\n",
       "    <tr>\n",
       "      <th>...</th>\n",
       "      <td>...</td>\n",
       "      <td>...</td>\n",
       "      <td>...</td>\n",
       "    </tr>\n",
       "    <tr>\n",
       "      <th>12965</th>\n",
       "      <td>A</td>\n",
       "      <td>98</td>\n",
       "      <td>P</td>\n",
       "    </tr>\n",
       "    <tr>\n",
       "      <th>12966</th>\n",
       "      <td>G</td>\n",
       "      <td>1499</td>\n",
       "      <td>S</td>\n",
       "    </tr>\n",
       "    <tr>\n",
       "      <th>12967</th>\n",
       "      <td>G</td>\n",
       "      <td>1500</td>\n",
       "      <td>S</td>\n",
       "    </tr>\n",
       "    <tr>\n",
       "      <th>12968</th>\n",
       "      <td>E</td>\n",
       "      <td>608</td>\n",
       "      <td>S</td>\n",
       "    </tr>\n",
       "    <tr>\n",
       "      <th>12969</th>\n",
       "      <td>E</td>\n",
       "      <td>608</td>\n",
       "      <td>S</td>\n",
       "    </tr>\n",
       "  </tbody>\n",
       "</table>\n",
       "<p>12970 rows × 3 columns</p>\n",
       "</div>"
      ],
      "text/plain": [
       "       0     1  2\n",
       "0      G     3  S\n",
       "1      F     4  S\n",
       "2      C     0  S\n",
       "3      C     1  S\n",
       "4      F     5  S\n",
       "...   ..   ... ..\n",
       "12965  A    98  P\n",
       "12966  G  1499  S\n",
       "12967  G  1500  S\n",
       "12968  E   608  S\n",
       "12969  E   608  S\n",
       "\n",
       "[12970 rows x 3 columns]"
      ]
     },
     "execution_count": 28,
     "metadata": {},
     "output_type": "execute_result"
    }
   ],
   "source": [
    "cabin_split"
   ]
  },
  {
   "cell_type": "code",
   "execution_count": null,
   "id": "37c3445d",
   "metadata": {},
   "outputs": [],
   "source": []
  },
  {
   "cell_type": "code",
   "execution_count": 29,
   "id": "601510d3",
   "metadata": {
    "scrolled": true
   },
   "outputs": [],
   "source": [
    "# join new split cabin columns back into main data set\n",
    "\n",
    "df2 = df_train.join(cabin_split)"
   ]
  },
  {
   "cell_type": "code",
   "execution_count": 30,
   "id": "fe5b2c0a",
   "metadata": {},
   "outputs": [],
   "source": [
    "# rename new cabin columns\n",
    "\n",
    "df2 = df2.rename(columns={0: 'Deck', 1 : 'Number', 2 : 'Side'})"
   ]
  },
  {
   "cell_type": "code",
   "execution_count": 31,
   "id": "55517d54",
   "metadata": {},
   "outputs": [],
   "source": [
    "# delete names\n",
    "\n",
    "del df_train['Name']"
   ]
  },
  {
   "cell_type": "code",
   "execution_count": 32,
   "id": "de9018b4",
   "metadata": {},
   "outputs": [],
   "source": [
    "crosstab6 = pd.crosstab(df2['Side'], df2['Transported'])"
   ]
  },
  {
   "cell_type": "code",
   "execution_count": 33,
   "id": "09fe6c9b",
   "metadata": {},
   "outputs": [
    {
     "data": {
      "text/html": [
       "<div>\n",
       "<style scoped>\n",
       "    .dataframe tbody tr th:only-of-type {\n",
       "        vertical-align: middle;\n",
       "    }\n",
       "\n",
       "    .dataframe tbody tr th {\n",
       "        vertical-align: top;\n",
       "    }\n",
       "\n",
       "    .dataframe thead th {\n",
       "        text-align: right;\n",
       "    }\n",
       "</style>\n",
       "<table border=\"1\" class=\"dataframe\">\n",
       "  <thead>\n",
       "    <tr style=\"text-align: right;\">\n",
       "      <th>Transported</th>\n",
       "      <th>0</th>\n",
       "      <th>1</th>\n",
       "    </tr>\n",
       "    <tr>\n",
       "      <th>Side</th>\n",
       "      <th></th>\n",
       "      <th></th>\n",
       "    </tr>\n",
       "  </thead>\n",
       "  <tbody>\n",
       "    <tr>\n",
       "      <th>P</th>\n",
       "      <td>2308</td>\n",
       "      <td>1898</td>\n",
       "    </tr>\n",
       "    <tr>\n",
       "      <th>S</th>\n",
       "      <td>1908</td>\n",
       "      <td>2380</td>\n",
       "    </tr>\n",
       "  </tbody>\n",
       "</table>\n",
       "</div>"
      ],
      "text/plain": [
       "Transported     0     1\n",
       "Side                   \n",
       "P            2308  1898\n",
       "S            1908  2380"
      ]
     },
     "execution_count": 33,
     "metadata": {},
     "output_type": "execute_result"
    }
   ],
   "source": [
    "crosstab6"
   ]
  },
  {
   "cell_type": "markdown",
   "id": "727f3518",
   "metadata": {},
   "source": [
    "### interesting... larger proportion of Starboard side transported than Port"
   ]
  },
  {
   "cell_type": "code",
   "execution_count": 34,
   "id": "acbf520a",
   "metadata": {},
   "outputs": [],
   "source": [
    "# port = 1, Side = 2\n",
    "\n",
    "df2.loc[df2['Side'] == 'P', 'Side'] = 1\n",
    "df2.loc[df2['Side'] == 'S', 'Side'] = 2"
   ]
  },
  {
   "cell_type": "code",
   "execution_count": 35,
   "id": "f6717930",
   "metadata": {},
   "outputs": [
    {
     "data": {
      "text/html": [
       "<div>\n",
       "<style scoped>\n",
       "    .dataframe tbody tr th:only-of-type {\n",
       "        vertical-align: middle;\n",
       "    }\n",
       "\n",
       "    .dataframe tbody tr th {\n",
       "        vertical-align: top;\n",
       "    }\n",
       "\n",
       "    .dataframe thead th {\n",
       "        text-align: right;\n",
       "    }\n",
       "</style>\n",
       "<table border=\"1\" class=\"dataframe\">\n",
       "  <thead>\n",
       "    <tr style=\"text-align: right;\">\n",
       "      <th></th>\n",
       "      <th>PassengerId</th>\n",
       "      <th>HomePlanet</th>\n",
       "      <th>CryoSleep</th>\n",
       "      <th>Cabin</th>\n",
       "      <th>Destination</th>\n",
       "      <th>Age</th>\n",
       "      <th>VIP</th>\n",
       "      <th>RoomService</th>\n",
       "      <th>FoodCourt</th>\n",
       "      <th>ShoppingMall</th>\n",
       "      <th>Spa</th>\n",
       "      <th>VRDeck</th>\n",
       "      <th>Name</th>\n",
       "      <th>Type</th>\n",
       "      <th>Transported</th>\n",
       "      <th>Deck</th>\n",
       "      <th>Number</th>\n",
       "      <th>Side</th>\n",
       "    </tr>\n",
       "  </thead>\n",
       "  <tbody>\n",
       "    <tr>\n",
       "      <th>0</th>\n",
       "      <td>0013_01</td>\n",
       "      <td>1</td>\n",
       "      <td>1</td>\n",
       "      <td>G/3/S</td>\n",
       "      <td>1</td>\n",
       "      <td>27.0</td>\n",
       "      <td>0</td>\n",
       "      <td>0.0</td>\n",
       "      <td>0.0</td>\n",
       "      <td>0.0</td>\n",
       "      <td>0.0</td>\n",
       "      <td>0.0</td>\n",
       "      <td>Nelly Carsoning</td>\n",
       "      <td>Test</td>\n",
       "      <td>NaN</td>\n",
       "      <td>G</td>\n",
       "      <td>3</td>\n",
       "      <td>2</td>\n",
       "    </tr>\n",
       "    <tr>\n",
       "      <th>1</th>\n",
       "      <td>0018_01</td>\n",
       "      <td>1</td>\n",
       "      <td>0</td>\n",
       "      <td>F/4/S</td>\n",
       "      <td>1</td>\n",
       "      <td>19.0</td>\n",
       "      <td>0</td>\n",
       "      <td>0.0</td>\n",
       "      <td>9.0</td>\n",
       "      <td>0.0</td>\n",
       "      <td>2823.0</td>\n",
       "      <td>0.0</td>\n",
       "      <td>Lerome Peckers</td>\n",
       "      <td>Test</td>\n",
       "      <td>NaN</td>\n",
       "      <td>F</td>\n",
       "      <td>4</td>\n",
       "      <td>2</td>\n",
       "    </tr>\n",
       "    <tr>\n",
       "      <th>2</th>\n",
       "      <td>0019_01</td>\n",
       "      <td>2</td>\n",
       "      <td>1</td>\n",
       "      <td>C/0/S</td>\n",
       "      <td>2</td>\n",
       "      <td>31.0</td>\n",
       "      <td>0</td>\n",
       "      <td>0.0</td>\n",
       "      <td>0.0</td>\n",
       "      <td>0.0</td>\n",
       "      <td>0.0</td>\n",
       "      <td>0.0</td>\n",
       "      <td>Sabih Unhearfus</td>\n",
       "      <td>Test</td>\n",
       "      <td>NaN</td>\n",
       "      <td>C</td>\n",
       "      <td>0</td>\n",
       "      <td>2</td>\n",
       "    </tr>\n",
       "    <tr>\n",
       "      <th>3</th>\n",
       "      <td>0021_01</td>\n",
       "      <td>2</td>\n",
       "      <td>0</td>\n",
       "      <td>C/1/S</td>\n",
       "      <td>1</td>\n",
       "      <td>38.0</td>\n",
       "      <td>0</td>\n",
       "      <td>0.0</td>\n",
       "      <td>6652.0</td>\n",
       "      <td>0.0</td>\n",
       "      <td>181.0</td>\n",
       "      <td>585.0</td>\n",
       "      <td>Meratz Caltilter</td>\n",
       "      <td>Test</td>\n",
       "      <td>NaN</td>\n",
       "      <td>C</td>\n",
       "      <td>1</td>\n",
       "      <td>2</td>\n",
       "    </tr>\n",
       "    <tr>\n",
       "      <th>4</th>\n",
       "      <td>0023_01</td>\n",
       "      <td>1</td>\n",
       "      <td>0</td>\n",
       "      <td>F/5/S</td>\n",
       "      <td>1</td>\n",
       "      <td>20.0</td>\n",
       "      <td>0</td>\n",
       "      <td>10.0</td>\n",
       "      <td>0.0</td>\n",
       "      <td>635.0</td>\n",
       "      <td>0.0</td>\n",
       "      <td>0.0</td>\n",
       "      <td>Brence Harperez</td>\n",
       "      <td>Test</td>\n",
       "      <td>NaN</td>\n",
       "      <td>F</td>\n",
       "      <td>5</td>\n",
       "      <td>2</td>\n",
       "    </tr>\n",
       "  </tbody>\n",
       "</table>\n",
       "</div>"
      ],
      "text/plain": [
       "  PassengerId HomePlanet CryoSleep  Cabin Destination   Age VIP  RoomService  \\\n",
       "0     0013_01          1         1  G/3/S           1  27.0   0          0.0   \n",
       "1     0018_01          1         0  F/4/S           1  19.0   0          0.0   \n",
       "2     0019_01          2         1  C/0/S           2  31.0   0          0.0   \n",
       "3     0021_01          2         0  C/1/S           1  38.0   0          0.0   \n",
       "4     0023_01          1         0  F/5/S           1  20.0   0         10.0   \n",
       "\n",
       "   FoodCourt  ShoppingMall     Spa  VRDeck              Name  Type  \\\n",
       "0        0.0           0.0     0.0     0.0   Nelly Carsoning  Test   \n",
       "1        9.0           0.0  2823.0     0.0    Lerome Peckers  Test   \n",
       "2        0.0           0.0     0.0     0.0   Sabih Unhearfus  Test   \n",
       "3     6652.0           0.0   181.0   585.0  Meratz Caltilter  Test   \n",
       "4        0.0         635.0     0.0     0.0   Brence Harperez  Test   \n",
       "\n",
       "  Transported Deck Number Side  \n",
       "0         NaN    G      3    2  \n",
       "1         NaN    F      4    2  \n",
       "2         NaN    C      0    2  \n",
       "3         NaN    C      1    2  \n",
       "4         NaN    F      5    2  "
      ]
     },
     "execution_count": 35,
     "metadata": {},
     "output_type": "execute_result"
    }
   ],
   "source": [
    "df2.head()"
   ]
  },
  {
   "cell_type": "code",
   "execution_count": 36,
   "id": "69c769a2",
   "metadata": {},
   "outputs": [],
   "source": [
    "crosstab7 = pd.crosstab(df2['Deck'], df2['Transported'])"
   ]
  },
  {
   "cell_type": "code",
   "execution_count": 37,
   "id": "8935db91",
   "metadata": {},
   "outputs": [
    {
     "data": {
      "text/html": [
       "<div>\n",
       "<style scoped>\n",
       "    .dataframe tbody tr th:only-of-type {\n",
       "        vertical-align: middle;\n",
       "    }\n",
       "\n",
       "    .dataframe tbody tr th {\n",
       "        vertical-align: top;\n",
       "    }\n",
       "\n",
       "    .dataframe thead th {\n",
       "        text-align: right;\n",
       "    }\n",
       "</style>\n",
       "<table border=\"1\" class=\"dataframe\">\n",
       "  <thead>\n",
       "    <tr style=\"text-align: right;\">\n",
       "      <th>Transported</th>\n",
       "      <th>0</th>\n",
       "      <th>1</th>\n",
       "    </tr>\n",
       "    <tr>\n",
       "      <th>Deck</th>\n",
       "      <th></th>\n",
       "      <th></th>\n",
       "    </tr>\n",
       "  </thead>\n",
       "  <tbody>\n",
       "    <tr>\n",
       "      <th>A</th>\n",
       "      <td>129</td>\n",
       "      <td>127</td>\n",
       "    </tr>\n",
       "    <tr>\n",
       "      <th>B</th>\n",
       "      <td>207</td>\n",
       "      <td>572</td>\n",
       "    </tr>\n",
       "    <tr>\n",
       "      <th>C</th>\n",
       "      <td>239</td>\n",
       "      <td>508</td>\n",
       "    </tr>\n",
       "    <tr>\n",
       "      <th>D</th>\n",
       "      <td>271</td>\n",
       "      <td>207</td>\n",
       "    </tr>\n",
       "    <tr>\n",
       "      <th>E</th>\n",
       "      <td>563</td>\n",
       "      <td>313</td>\n",
       "    </tr>\n",
       "    <tr>\n",
       "      <th>F</th>\n",
       "      <td>1565</td>\n",
       "      <td>1229</td>\n",
       "    </tr>\n",
       "    <tr>\n",
       "      <th>G</th>\n",
       "      <td>1238</td>\n",
       "      <td>1321</td>\n",
       "    </tr>\n",
       "    <tr>\n",
       "      <th>T</th>\n",
       "      <td>4</td>\n",
       "      <td>1</td>\n",
       "    </tr>\n",
       "  </tbody>\n",
       "</table>\n",
       "</div>"
      ],
      "text/plain": [
       "Transported     0     1\n",
       "Deck                   \n",
       "A             129   127\n",
       "B             207   572\n",
       "C             239   508\n",
       "D             271   207\n",
       "E             563   313\n",
       "F            1565  1229\n",
       "G            1238  1321\n",
       "T               4     1"
      ]
     },
     "execution_count": 37,
     "metadata": {},
     "output_type": "execute_result"
    }
   ],
   "source": [
    "crosstab7"
   ]
  },
  {
   "cell_type": "code",
   "execution_count": 38,
   "id": "850e5375",
   "metadata": {},
   "outputs": [],
   "source": [
    "# delete original cabin column\n",
    "\n",
    "del df2['Cabin']"
   ]
  },
  {
   "cell_type": "code",
   "execution_count": 39,
   "id": "fc203e7f",
   "metadata": {},
   "outputs": [
    {
     "data": {
      "text/html": [
       "<div>\n",
       "<style scoped>\n",
       "    .dataframe tbody tr th:only-of-type {\n",
       "        vertical-align: middle;\n",
       "    }\n",
       "\n",
       "    .dataframe tbody tr th {\n",
       "        vertical-align: top;\n",
       "    }\n",
       "\n",
       "    .dataframe thead th {\n",
       "        text-align: right;\n",
       "    }\n",
       "</style>\n",
       "<table border=\"1\" class=\"dataframe\">\n",
       "  <thead>\n",
       "    <tr style=\"text-align: right;\">\n",
       "      <th></th>\n",
       "      <th>PassengerId</th>\n",
       "      <th>HomePlanet</th>\n",
       "      <th>CryoSleep</th>\n",
       "      <th>Destination</th>\n",
       "      <th>Age</th>\n",
       "      <th>VIP</th>\n",
       "      <th>RoomService</th>\n",
       "      <th>FoodCourt</th>\n",
       "      <th>ShoppingMall</th>\n",
       "      <th>Spa</th>\n",
       "      <th>VRDeck</th>\n",
       "      <th>Name</th>\n",
       "      <th>Type</th>\n",
       "      <th>Transported</th>\n",
       "      <th>Deck</th>\n",
       "      <th>Number</th>\n",
       "      <th>Side</th>\n",
       "    </tr>\n",
       "  </thead>\n",
       "  <tbody>\n",
       "    <tr>\n",
       "      <th>0</th>\n",
       "      <td>0013_01</td>\n",
       "      <td>1</td>\n",
       "      <td>1</td>\n",
       "      <td>1</td>\n",
       "      <td>27.0</td>\n",
       "      <td>0</td>\n",
       "      <td>0.0</td>\n",
       "      <td>0.0</td>\n",
       "      <td>0.0</td>\n",
       "      <td>0.0</td>\n",
       "      <td>0.0</td>\n",
       "      <td>Nelly Carsoning</td>\n",
       "      <td>Test</td>\n",
       "      <td>NaN</td>\n",
       "      <td>G</td>\n",
       "      <td>3</td>\n",
       "      <td>2</td>\n",
       "    </tr>\n",
       "    <tr>\n",
       "      <th>1</th>\n",
       "      <td>0018_01</td>\n",
       "      <td>1</td>\n",
       "      <td>0</td>\n",
       "      <td>1</td>\n",
       "      <td>19.0</td>\n",
       "      <td>0</td>\n",
       "      <td>0.0</td>\n",
       "      <td>9.0</td>\n",
       "      <td>0.0</td>\n",
       "      <td>2823.0</td>\n",
       "      <td>0.0</td>\n",
       "      <td>Lerome Peckers</td>\n",
       "      <td>Test</td>\n",
       "      <td>NaN</td>\n",
       "      <td>F</td>\n",
       "      <td>4</td>\n",
       "      <td>2</td>\n",
       "    </tr>\n",
       "    <tr>\n",
       "      <th>2</th>\n",
       "      <td>0019_01</td>\n",
       "      <td>2</td>\n",
       "      <td>1</td>\n",
       "      <td>2</td>\n",
       "      <td>31.0</td>\n",
       "      <td>0</td>\n",
       "      <td>0.0</td>\n",
       "      <td>0.0</td>\n",
       "      <td>0.0</td>\n",
       "      <td>0.0</td>\n",
       "      <td>0.0</td>\n",
       "      <td>Sabih Unhearfus</td>\n",
       "      <td>Test</td>\n",
       "      <td>NaN</td>\n",
       "      <td>C</td>\n",
       "      <td>0</td>\n",
       "      <td>2</td>\n",
       "    </tr>\n",
       "    <tr>\n",
       "      <th>3</th>\n",
       "      <td>0021_01</td>\n",
       "      <td>2</td>\n",
       "      <td>0</td>\n",
       "      <td>1</td>\n",
       "      <td>38.0</td>\n",
       "      <td>0</td>\n",
       "      <td>0.0</td>\n",
       "      <td>6652.0</td>\n",
       "      <td>0.0</td>\n",
       "      <td>181.0</td>\n",
       "      <td>585.0</td>\n",
       "      <td>Meratz Caltilter</td>\n",
       "      <td>Test</td>\n",
       "      <td>NaN</td>\n",
       "      <td>C</td>\n",
       "      <td>1</td>\n",
       "      <td>2</td>\n",
       "    </tr>\n",
       "    <tr>\n",
       "      <th>4</th>\n",
       "      <td>0023_01</td>\n",
       "      <td>1</td>\n",
       "      <td>0</td>\n",
       "      <td>1</td>\n",
       "      <td>20.0</td>\n",
       "      <td>0</td>\n",
       "      <td>10.0</td>\n",
       "      <td>0.0</td>\n",
       "      <td>635.0</td>\n",
       "      <td>0.0</td>\n",
       "      <td>0.0</td>\n",
       "      <td>Brence Harperez</td>\n",
       "      <td>Test</td>\n",
       "      <td>NaN</td>\n",
       "      <td>F</td>\n",
       "      <td>5</td>\n",
       "      <td>2</td>\n",
       "    </tr>\n",
       "  </tbody>\n",
       "</table>\n",
       "</div>"
      ],
      "text/plain": [
       "  PassengerId HomePlanet CryoSleep Destination   Age VIP  RoomService  \\\n",
       "0     0013_01          1         1           1  27.0   0          0.0   \n",
       "1     0018_01          1         0           1  19.0   0          0.0   \n",
       "2     0019_01          2         1           2  31.0   0          0.0   \n",
       "3     0021_01          2         0           1  38.0   0          0.0   \n",
       "4     0023_01          1         0           1  20.0   0         10.0   \n",
       "\n",
       "   FoodCourt  ShoppingMall     Spa  VRDeck              Name  Type  \\\n",
       "0        0.0           0.0     0.0     0.0   Nelly Carsoning  Test   \n",
       "1        9.0           0.0  2823.0     0.0    Lerome Peckers  Test   \n",
       "2        0.0           0.0     0.0     0.0   Sabih Unhearfus  Test   \n",
       "3     6652.0           0.0   181.0   585.0  Meratz Caltilter  Test   \n",
       "4        0.0         635.0     0.0     0.0   Brence Harperez  Test   \n",
       "\n",
       "  Transported Deck Number Side  \n",
       "0         NaN    G      3    2  \n",
       "1         NaN    F      4    2  \n",
       "2         NaN    C      0    2  \n",
       "3         NaN    C      1    2  \n",
       "4         NaN    F      5    2  "
      ]
     },
     "execution_count": 39,
     "metadata": {},
     "output_type": "execute_result"
    }
   ],
   "source": [
    "df2.head()"
   ]
  },
  {
   "cell_type": "markdown",
   "id": "3b45069a",
   "metadata": {},
   "source": [
    "## now we can finally look at nulls, geez"
   ]
  },
  {
   "cell_type": "code",
   "execution_count": 40,
   "id": "b44b5bfc",
   "metadata": {},
   "outputs": [
    {
     "data": {
      "text/plain": [
       "PassengerId        0\n",
       "HomePlanet       288\n",
       "CryoSleep        310\n",
       "Destination      274\n",
       "Age              270\n",
       "VIP              296\n",
       "RoomService      263\n",
       "FoodCourt        289\n",
       "ShoppingMall     306\n",
       "Spa              284\n",
       "VRDeck           268\n",
       "Name             294\n",
       "Type               0\n",
       "Transported     4277\n",
       "Deck             299\n",
       "Number           299\n",
       "Side             299\n",
       "dtype: int64"
      ]
     },
     "execution_count": 40,
     "metadata": {},
     "output_type": "execute_result"
    }
   ],
   "source": [
    "df2.isnull().sum()"
   ]
  },
  {
   "cell_type": "markdown",
   "id": "8116d0f1",
   "metadata": {},
   "source": [
    "# WOOF"
   ]
  },
  {
   "cell_type": "code",
   "execution_count": 41,
   "id": "9330fcfe",
   "metadata": {},
   "outputs": [],
   "source": [
    "crosstab8 = pd.crosstab(df2['VIP'], df2['Deck'])"
   ]
  },
  {
   "cell_type": "markdown",
   "id": "774d0d85",
   "metadata": {},
   "source": [
    "### assumption 1: room service, food court, spa, VR Deck, CryoSleep and shopping mall NaNs are meant to be 0. Im going to impute those values now."
   ]
  },
  {
   "cell_type": "code",
   "execution_count": 42,
   "id": "9de59cf4",
   "metadata": {},
   "outputs": [],
   "source": [
    "df2['RoomService'] = df2['RoomService'].fillna(0)"
   ]
  },
  {
   "cell_type": "code",
   "execution_count": 43,
   "id": "915845f6",
   "metadata": {},
   "outputs": [],
   "source": [
    "df2['FoodCourt'] = df2['FoodCourt'].fillna(0)"
   ]
  },
  {
   "cell_type": "code",
   "execution_count": 44,
   "id": "0560af14",
   "metadata": {},
   "outputs": [],
   "source": [
    "df2['ShoppingMall'] = df2['ShoppingMall'].fillna(0)"
   ]
  },
  {
   "cell_type": "code",
   "execution_count": 45,
   "id": "cb3fb991",
   "metadata": {},
   "outputs": [],
   "source": [
    "df2['Spa'] = df2['Spa'].fillna(0)"
   ]
  },
  {
   "cell_type": "code",
   "execution_count": 46,
   "id": "c22b22a1",
   "metadata": {},
   "outputs": [],
   "source": [
    "df2['VRDeck'] = df2['VRDeck'].fillna(0)"
   ]
  },
  {
   "cell_type": "code",
   "execution_count": 47,
   "id": "e34edfe1",
   "metadata": {},
   "outputs": [],
   "source": [
    "df2['VIP'] = df2['VIP'].fillna(0)"
   ]
  },
  {
   "cell_type": "code",
   "execution_count": 48,
   "id": "ea6be9f8",
   "metadata": {},
   "outputs": [],
   "source": [
    "df2['CryoSleep'] = df2['CryoSleep'].fillna(0)"
   ]
  },
  {
   "cell_type": "code",
   "execution_count": 49,
   "id": "6bf15d47",
   "metadata": {},
   "outputs": [
    {
     "data": {
      "text/plain": [
       "PassengerId        0\n",
       "HomePlanet       288\n",
       "CryoSleep          0\n",
       "Destination      274\n",
       "Age              270\n",
       "VIP                0\n",
       "RoomService        0\n",
       "FoodCourt          0\n",
       "ShoppingMall       0\n",
       "Spa                0\n",
       "VRDeck             0\n",
       "Name             294\n",
       "Type               0\n",
       "Transported     4277\n",
       "Deck             299\n",
       "Number           299\n",
       "Side             299\n",
       "dtype: int64"
      ]
     },
     "execution_count": 49,
     "metadata": {},
     "output_type": "execute_result"
    }
   ],
   "source": [
    "df2.isnull().sum()"
   ]
  },
  {
   "cell_type": "markdown",
   "id": "f1e0d799",
   "metadata": {},
   "source": [
    "# i overlooked the family status column earlier. I want to split out the ID from the fam status so that we can use that as well."
   ]
  },
  {
   "cell_type": "code",
   "execution_count": 50,
   "id": "e688d051",
   "metadata": {},
   "outputs": [],
   "source": [
    "#  split passenger id from fam status\n",
    "fam_split = df_train['PassengerId'].str.split('_', expand=True)"
   ]
  },
  {
   "cell_type": "code",
   "execution_count": 51,
   "id": "4caa3161",
   "metadata": {},
   "outputs": [
    {
     "data": {
      "text/html": [
       "<div>\n",
       "<style scoped>\n",
       "    .dataframe tbody tr th:only-of-type {\n",
       "        vertical-align: middle;\n",
       "    }\n",
       "\n",
       "    .dataframe tbody tr th {\n",
       "        vertical-align: top;\n",
       "    }\n",
       "\n",
       "    .dataframe thead th {\n",
       "        text-align: right;\n",
       "    }\n",
       "</style>\n",
       "<table border=\"1\" class=\"dataframe\">\n",
       "  <thead>\n",
       "    <tr style=\"text-align: right;\">\n",
       "      <th></th>\n",
       "      <th>0</th>\n",
       "      <th>1</th>\n",
       "    </tr>\n",
       "  </thead>\n",
       "  <tbody>\n",
       "    <tr>\n",
       "      <th>0</th>\n",
       "      <td>0013</td>\n",
       "      <td>01</td>\n",
       "    </tr>\n",
       "    <tr>\n",
       "      <th>1</th>\n",
       "      <td>0018</td>\n",
       "      <td>01</td>\n",
       "    </tr>\n",
       "    <tr>\n",
       "      <th>2</th>\n",
       "      <td>0019</td>\n",
       "      <td>01</td>\n",
       "    </tr>\n",
       "    <tr>\n",
       "      <th>3</th>\n",
       "      <td>0021</td>\n",
       "      <td>01</td>\n",
       "    </tr>\n",
       "    <tr>\n",
       "      <th>4</th>\n",
       "      <td>0023</td>\n",
       "      <td>01</td>\n",
       "    </tr>\n",
       "    <tr>\n",
       "      <th>...</th>\n",
       "      <td>...</td>\n",
       "      <td>...</td>\n",
       "    </tr>\n",
       "    <tr>\n",
       "      <th>12965</th>\n",
       "      <td>9276</td>\n",
       "      <td>01</td>\n",
       "    </tr>\n",
       "    <tr>\n",
       "      <th>12966</th>\n",
       "      <td>9278</td>\n",
       "      <td>01</td>\n",
       "    </tr>\n",
       "    <tr>\n",
       "      <th>12967</th>\n",
       "      <td>9279</td>\n",
       "      <td>01</td>\n",
       "    </tr>\n",
       "    <tr>\n",
       "      <th>12968</th>\n",
       "      <td>9280</td>\n",
       "      <td>01</td>\n",
       "    </tr>\n",
       "    <tr>\n",
       "      <th>12969</th>\n",
       "      <td>9280</td>\n",
       "      <td>02</td>\n",
       "    </tr>\n",
       "  </tbody>\n",
       "</table>\n",
       "<p>12970 rows × 2 columns</p>\n",
       "</div>"
      ],
      "text/plain": [
       "          0   1\n",
       "0      0013  01\n",
       "1      0018  01\n",
       "2      0019  01\n",
       "3      0021  01\n",
       "4      0023  01\n",
       "...     ...  ..\n",
       "12965  9276  01\n",
       "12966  9278  01\n",
       "12967  9279  01\n",
       "12968  9280  01\n",
       "12969  9280  02\n",
       "\n",
       "[12970 rows x 2 columns]"
      ]
     },
     "execution_count": 51,
     "metadata": {},
     "output_type": "execute_result"
    }
   ],
   "source": [
    "fam_split"
   ]
  },
  {
   "cell_type": "code",
   "execution_count": 52,
   "id": "93c4567c",
   "metadata": {},
   "outputs": [],
   "source": [
    "# join new fam status into main DF\n",
    "\n",
    "df2 = df2.join(fam_split)"
   ]
  },
  {
   "cell_type": "code",
   "execution_count": 86,
   "id": "9f21db70",
   "metadata": {},
   "outputs": [],
   "source": [
    "#delete additional passenger id\n",
    "\n",
    "del df2[0]"
   ]
  },
  {
   "cell_type": "code",
   "execution_count": 91,
   "id": "ef436761",
   "metadata": {},
   "outputs": [],
   "source": [
    "df2 = df2.rename(columns={1: 'Fam_status'})"
   ]
  },
  {
   "cell_type": "code",
   "execution_count": 92,
   "id": "4aca9f25",
   "metadata": {},
   "outputs": [
    {
     "data": {
      "text/html": [
       "<div>\n",
       "<style scoped>\n",
       "    .dataframe tbody tr th:only-of-type {\n",
       "        vertical-align: middle;\n",
       "    }\n",
       "\n",
       "    .dataframe tbody tr th {\n",
       "        vertical-align: top;\n",
       "    }\n",
       "\n",
       "    .dataframe thead th {\n",
       "        text-align: right;\n",
       "    }\n",
       "</style>\n",
       "<table border=\"1\" class=\"dataframe\">\n",
       "  <thead>\n",
       "    <tr style=\"text-align: right;\">\n",
       "      <th></th>\n",
       "      <th>PassengerId</th>\n",
       "      <th>HomePlanet</th>\n",
       "      <th>CryoSleep</th>\n",
       "      <th>Destination</th>\n",
       "      <th>Age</th>\n",
       "      <th>VIP</th>\n",
       "      <th>RoomService</th>\n",
       "      <th>FoodCourt</th>\n",
       "      <th>ShoppingMall</th>\n",
       "      <th>Spa</th>\n",
       "      <th>VRDeck</th>\n",
       "      <th>Name</th>\n",
       "      <th>Type</th>\n",
       "      <th>Transported</th>\n",
       "      <th>Deck</th>\n",
       "      <th>Number</th>\n",
       "      <th>Side</th>\n",
       "      <th>Fam_status</th>\n",
       "    </tr>\n",
       "  </thead>\n",
       "  <tbody>\n",
       "    <tr>\n",
       "      <th>0</th>\n",
       "      <td>0013_01</td>\n",
       "      <td>1</td>\n",
       "      <td>1</td>\n",
       "      <td>1</td>\n",
       "      <td>27.0</td>\n",
       "      <td>0</td>\n",
       "      <td>0.0</td>\n",
       "      <td>0.0</td>\n",
       "      <td>0.0</td>\n",
       "      <td>0.0</td>\n",
       "      <td>0.0</td>\n",
       "      <td>Nelly Carsoning</td>\n",
       "      <td>Test</td>\n",
       "      <td>NaN</td>\n",
       "      <td>G</td>\n",
       "      <td>3</td>\n",
       "      <td>2</td>\n",
       "      <td>01</td>\n",
       "    </tr>\n",
       "    <tr>\n",
       "      <th>1</th>\n",
       "      <td>0018_01</td>\n",
       "      <td>1</td>\n",
       "      <td>0</td>\n",
       "      <td>1</td>\n",
       "      <td>19.0</td>\n",
       "      <td>0</td>\n",
       "      <td>0.0</td>\n",
       "      <td>9.0</td>\n",
       "      <td>0.0</td>\n",
       "      <td>2823.0</td>\n",
       "      <td>0.0</td>\n",
       "      <td>Lerome Peckers</td>\n",
       "      <td>Test</td>\n",
       "      <td>NaN</td>\n",
       "      <td>F</td>\n",
       "      <td>4</td>\n",
       "      <td>2</td>\n",
       "      <td>01</td>\n",
       "    </tr>\n",
       "    <tr>\n",
       "      <th>2</th>\n",
       "      <td>0019_01</td>\n",
       "      <td>2</td>\n",
       "      <td>1</td>\n",
       "      <td>2</td>\n",
       "      <td>31.0</td>\n",
       "      <td>0</td>\n",
       "      <td>0.0</td>\n",
       "      <td>0.0</td>\n",
       "      <td>0.0</td>\n",
       "      <td>0.0</td>\n",
       "      <td>0.0</td>\n",
       "      <td>Sabih Unhearfus</td>\n",
       "      <td>Test</td>\n",
       "      <td>NaN</td>\n",
       "      <td>C</td>\n",
       "      <td>0</td>\n",
       "      <td>2</td>\n",
       "      <td>01</td>\n",
       "    </tr>\n",
       "    <tr>\n",
       "      <th>3</th>\n",
       "      <td>0021_01</td>\n",
       "      <td>2</td>\n",
       "      <td>0</td>\n",
       "      <td>1</td>\n",
       "      <td>38.0</td>\n",
       "      <td>0</td>\n",
       "      <td>0.0</td>\n",
       "      <td>6652.0</td>\n",
       "      <td>0.0</td>\n",
       "      <td>181.0</td>\n",
       "      <td>585.0</td>\n",
       "      <td>Meratz Caltilter</td>\n",
       "      <td>Test</td>\n",
       "      <td>NaN</td>\n",
       "      <td>C</td>\n",
       "      <td>1</td>\n",
       "      <td>2</td>\n",
       "      <td>01</td>\n",
       "    </tr>\n",
       "    <tr>\n",
       "      <th>4</th>\n",
       "      <td>0023_01</td>\n",
       "      <td>1</td>\n",
       "      <td>0</td>\n",
       "      <td>1</td>\n",
       "      <td>20.0</td>\n",
       "      <td>0</td>\n",
       "      <td>10.0</td>\n",
       "      <td>0.0</td>\n",
       "      <td>635.0</td>\n",
       "      <td>0.0</td>\n",
       "      <td>0.0</td>\n",
       "      <td>Brence Harperez</td>\n",
       "      <td>Test</td>\n",
       "      <td>NaN</td>\n",
       "      <td>F</td>\n",
       "      <td>5</td>\n",
       "      <td>2</td>\n",
       "      <td>01</td>\n",
       "    </tr>\n",
       "    <tr>\n",
       "      <th>...</th>\n",
       "      <td>...</td>\n",
       "      <td>...</td>\n",
       "      <td>...</td>\n",
       "      <td>...</td>\n",
       "      <td>...</td>\n",
       "      <td>...</td>\n",
       "      <td>...</td>\n",
       "      <td>...</td>\n",
       "      <td>...</td>\n",
       "      <td>...</td>\n",
       "      <td>...</td>\n",
       "      <td>...</td>\n",
       "      <td>...</td>\n",
       "      <td>...</td>\n",
       "      <td>...</td>\n",
       "      <td>...</td>\n",
       "      <td>...</td>\n",
       "      <td>...</td>\n",
       "    </tr>\n",
       "    <tr>\n",
       "      <th>12965</th>\n",
       "      <td>9276_01</td>\n",
       "      <td>2</td>\n",
       "      <td>0</td>\n",
       "      <td>2</td>\n",
       "      <td>41.0</td>\n",
       "      <td>1</td>\n",
       "      <td>0.0</td>\n",
       "      <td>6819.0</td>\n",
       "      <td>0.0</td>\n",
       "      <td>1643.0</td>\n",
       "      <td>74.0</td>\n",
       "      <td>Gravior Noxnuther</td>\n",
       "      <td>Train</td>\n",
       "      <td>0</td>\n",
       "      <td>A</td>\n",
       "      <td>98</td>\n",
       "      <td>1</td>\n",
       "      <td>01</td>\n",
       "    </tr>\n",
       "    <tr>\n",
       "      <th>12966</th>\n",
       "      <td>9278_01</td>\n",
       "      <td>1</td>\n",
       "      <td>1</td>\n",
       "      <td>3</td>\n",
       "      <td>18.0</td>\n",
       "      <td>0</td>\n",
       "      <td>0.0</td>\n",
       "      <td>0.0</td>\n",
       "      <td>0.0</td>\n",
       "      <td>0.0</td>\n",
       "      <td>0.0</td>\n",
       "      <td>Kurta Mondalley</td>\n",
       "      <td>Train</td>\n",
       "      <td>0</td>\n",
       "      <td>G</td>\n",
       "      <td>1499</td>\n",
       "      <td>2</td>\n",
       "      <td>01</td>\n",
       "    </tr>\n",
       "    <tr>\n",
       "      <th>12967</th>\n",
       "      <td>9279_01</td>\n",
       "      <td>1</td>\n",
       "      <td>0</td>\n",
       "      <td>1</td>\n",
       "      <td>26.0</td>\n",
       "      <td>0</td>\n",
       "      <td>0.0</td>\n",
       "      <td>0.0</td>\n",
       "      <td>1872.0</td>\n",
       "      <td>1.0</td>\n",
       "      <td>0.0</td>\n",
       "      <td>Fayey Connon</td>\n",
       "      <td>Train</td>\n",
       "      <td>1</td>\n",
       "      <td>G</td>\n",
       "      <td>1500</td>\n",
       "      <td>2</td>\n",
       "      <td>01</td>\n",
       "    </tr>\n",
       "    <tr>\n",
       "      <th>12968</th>\n",
       "      <td>9280_01</td>\n",
       "      <td>2</td>\n",
       "      <td>0</td>\n",
       "      <td>2</td>\n",
       "      <td>32.0</td>\n",
       "      <td>0</td>\n",
       "      <td>0.0</td>\n",
       "      <td>1049.0</td>\n",
       "      <td>0.0</td>\n",
       "      <td>353.0</td>\n",
       "      <td>3235.0</td>\n",
       "      <td>Celeon Hontichre</td>\n",
       "      <td>Train</td>\n",
       "      <td>0</td>\n",
       "      <td>E</td>\n",
       "      <td>608</td>\n",
       "      <td>2</td>\n",
       "      <td>01</td>\n",
       "    </tr>\n",
       "    <tr>\n",
       "      <th>12969</th>\n",
       "      <td>9280_02</td>\n",
       "      <td>2</td>\n",
       "      <td>0</td>\n",
       "      <td>1</td>\n",
       "      <td>44.0</td>\n",
       "      <td>0</td>\n",
       "      <td>126.0</td>\n",
       "      <td>4688.0</td>\n",
       "      <td>0.0</td>\n",
       "      <td>0.0</td>\n",
       "      <td>12.0</td>\n",
       "      <td>Propsh Hontichre</td>\n",
       "      <td>Train</td>\n",
       "      <td>1</td>\n",
       "      <td>E</td>\n",
       "      <td>608</td>\n",
       "      <td>2</td>\n",
       "      <td>02</td>\n",
       "    </tr>\n",
       "  </tbody>\n",
       "</table>\n",
       "<p>12970 rows × 18 columns</p>\n",
       "</div>"
      ],
      "text/plain": [
       "      PassengerId HomePlanet  CryoSleep Destination   Age  VIP  RoomService  \\\n",
       "0         0013_01          1          1           1  27.0    0          0.0   \n",
       "1         0018_01          1          0           1  19.0    0          0.0   \n",
       "2         0019_01          2          1           2  31.0    0          0.0   \n",
       "3         0021_01          2          0           1  38.0    0          0.0   \n",
       "4         0023_01          1          0           1  20.0    0         10.0   \n",
       "...           ...        ...        ...         ...   ...  ...          ...   \n",
       "12965     9276_01          2          0           2  41.0    1          0.0   \n",
       "12966     9278_01          1          1           3  18.0    0          0.0   \n",
       "12967     9279_01          1          0           1  26.0    0          0.0   \n",
       "12968     9280_01          2          0           2  32.0    0          0.0   \n",
       "12969     9280_02          2          0           1  44.0    0        126.0   \n",
       "\n",
       "       FoodCourt  ShoppingMall     Spa  VRDeck               Name   Type  \\\n",
       "0            0.0           0.0     0.0     0.0    Nelly Carsoning   Test   \n",
       "1            9.0           0.0  2823.0     0.0     Lerome Peckers   Test   \n",
       "2            0.0           0.0     0.0     0.0    Sabih Unhearfus   Test   \n",
       "3         6652.0           0.0   181.0   585.0   Meratz Caltilter   Test   \n",
       "4            0.0         635.0     0.0     0.0    Brence Harperez   Test   \n",
       "...          ...           ...     ...     ...                ...    ...   \n",
       "12965     6819.0           0.0  1643.0    74.0  Gravior Noxnuther  Train   \n",
       "12966        0.0           0.0     0.0     0.0    Kurta Mondalley  Train   \n",
       "12967        0.0        1872.0     1.0     0.0       Fayey Connon  Train   \n",
       "12968     1049.0           0.0   353.0  3235.0   Celeon Hontichre  Train   \n",
       "12969     4688.0           0.0     0.0    12.0   Propsh Hontichre  Train   \n",
       "\n",
       "      Transported Deck Number Side Fam_status  \n",
       "0             NaN    G      3    2         01  \n",
       "1             NaN    F      4    2         01  \n",
       "2             NaN    C      0    2         01  \n",
       "3             NaN    C      1    2         01  \n",
       "4             NaN    F      5    2         01  \n",
       "...           ...  ...    ...  ...        ...  \n",
       "12965           0    A     98    1         01  \n",
       "12966           0    G   1499    2         01  \n",
       "12967           1    G   1500    2         01  \n",
       "12968           0    E    608    2         01  \n",
       "12969           1    E    608    2         02  \n",
       "\n",
       "[12970 rows x 18 columns]"
      ]
     },
     "execution_count": 92,
     "metadata": {},
     "output_type": "execute_result"
    }
   ],
   "source": [
    "df2"
   ]
  },
  {
   "cell_type": "code",
   "execution_count": 95,
   "id": "340f9f0c",
   "metadata": {},
   "outputs": [],
   "source": [
    "# new reorganized DF\n",
    "\n",
    "df4 = df2[['PassengerId','Deck','Number','Side', 'CryoSleep', 'Age', 'VIP', 'RoomService', 'FoodCourt', 'ShoppingMall', 'Spa', 'VRDeck', 'Transported', 'Type', 'Fam_status']]"
   ]
  },
  {
   "cell_type": "markdown",
   "id": "05764cc8",
   "metadata": {},
   "source": [
    "# OK back to nulls"
   ]
  },
  {
   "cell_type": "code",
   "execution_count": 57,
   "id": "54c1e990",
   "metadata": {},
   "outputs": [
    {
     "data": {
      "text/plain": [
       "PassengerId        0\n",
       "Deck             299\n",
       "Number           299\n",
       "Side             299\n",
       "CryoSleep          0\n",
       "Age              270\n",
       "VIP                0\n",
       "RoomService        0\n",
       "FoodCourt          0\n",
       "ShoppingMall       0\n",
       "Spa                0\n",
       "VRDeck             0\n",
       "Transported     4277\n",
       "Type               0\n",
       "dtype: int64"
      ]
     },
     "execution_count": 57,
     "metadata": {},
     "output_type": "execute_result"
    }
   ],
   "source": [
    "df4.isnull().sum()"
   ]
  },
  {
   "cell_type": "code",
   "execution_count": 58,
   "id": "c4206fee",
   "metadata": {},
   "outputs": [
    {
     "data": {
      "text/plain": [
       "count    12700.000000\n",
       "mean        28.771969\n",
       "std         14.387261\n",
       "min          0.000000\n",
       "25%         19.000000\n",
       "50%         27.000000\n",
       "75%         38.000000\n",
       "max         79.000000\n",
       "Name: Age, dtype: float64"
      ]
     },
     "execution_count": 58,
     "metadata": {},
     "output_type": "execute_result"
    }
   ],
   "source": [
    "# AGE description\n",
    "\n",
    "df4['Age'].describe()"
   ]
  },
  {
   "cell_type": "code",
   "execution_count": 61,
   "id": "72c72366",
   "metadata": {},
   "outputs": [
    {
     "data": {
      "text/plain": [
       "0    12697\n",
       "1      273\n",
       "Name: VIP, dtype: int64"
      ]
     },
     "execution_count": 61,
     "metadata": {},
     "output_type": "execute_result"
    }
   ],
   "source": [
    "df4['VIP'].value_counts()"
   ]
  },
  {
   "cell_type": "code",
   "execution_count": 62,
   "id": "2f9f1608",
   "metadata": {},
   "outputs": [],
   "source": [
    "crosstab9 = pd.crosstab(df4['Transported'], df4['Side'])"
   ]
  },
  {
   "cell_type": "code",
   "execution_count": 63,
   "id": "843753d9",
   "metadata": {},
   "outputs": [
    {
     "data": {
      "text/html": [
       "<div>\n",
       "<style scoped>\n",
       "    .dataframe tbody tr th:only-of-type {\n",
       "        vertical-align: middle;\n",
       "    }\n",
       "\n",
       "    .dataframe tbody tr th {\n",
       "        vertical-align: top;\n",
       "    }\n",
       "\n",
       "    .dataframe thead th {\n",
       "        text-align: right;\n",
       "    }\n",
       "</style>\n",
       "<table border=\"1\" class=\"dataframe\">\n",
       "  <thead>\n",
       "    <tr style=\"text-align: right;\">\n",
       "      <th>Side</th>\n",
       "      <th>1</th>\n",
       "      <th>2</th>\n",
       "    </tr>\n",
       "    <tr>\n",
       "      <th>Transported</th>\n",
       "      <th></th>\n",
       "      <th></th>\n",
       "    </tr>\n",
       "  </thead>\n",
       "  <tbody>\n",
       "    <tr>\n",
       "      <th>0</th>\n",
       "      <td>2308</td>\n",
       "      <td>1908</td>\n",
       "    </tr>\n",
       "    <tr>\n",
       "      <th>1</th>\n",
       "      <td>1898</td>\n",
       "      <td>2380</td>\n",
       "    </tr>\n",
       "  </tbody>\n",
       "</table>\n",
       "</div>"
      ],
      "text/plain": [
       "Side            1     2\n",
       "Transported            \n",
       "0            2308  1908\n",
       "1            1898  2380"
      ]
     },
     "execution_count": 63,
     "metadata": {},
     "output_type": "execute_result"
    }
   ],
   "source": [
    "crosstab9"
   ]
  },
  {
   "cell_type": "code",
   "execution_count": 64,
   "id": "3f47bdfa",
   "metadata": {},
   "outputs": [
    {
     "data": {
      "text/plain": [
       "PassengerId        0\n",
       "Deck             299\n",
       "Number           299\n",
       "Side             299\n",
       "CryoSleep          0\n",
       "Age              270\n",
       "VIP                0\n",
       "RoomService        0\n",
       "FoodCourt          0\n",
       "ShoppingMall       0\n",
       "Spa                0\n",
       "VRDeck             0\n",
       "Transported     4277\n",
       "Type               0\n",
       "dtype: int64"
      ]
     },
     "execution_count": 64,
     "metadata": {},
     "output_type": "execute_result"
    }
   ],
   "source": [
    "df4.isnull().sum()"
   ]
  },
  {
   "cell_type": "code",
   "execution_count": 65,
   "id": "5e6d84cb",
   "metadata": {},
   "outputs": [
    {
     "data": {
      "text/plain": [
       "F    4239\n",
       "G    3781\n",
       "E    1323\n",
       "B    1141\n",
       "C    1102\n",
       "D     720\n",
       "A     354\n",
       "T      11\n",
       "Name: Deck, dtype: int64"
      ]
     },
     "execution_count": 65,
     "metadata": {},
     "output_type": "execute_result"
    }
   ],
   "source": [
    "df4['Deck'].value_counts()"
   ]
  },
  {
   "cell_type": "code",
   "execution_count": 104,
   "id": "e1b965bd",
   "metadata": {},
   "outputs": [],
   "source": [
    "# instead of imputing Age with the average, lets impute with a random sample from the values already present in the data set.\n",
    "\n",
    "\n",
    "df4['Age'] = df4['Age'].fillna(pd.Series(np.random.choice(df4['Age'], size=len(df4.index))))"
   ]
  },
  {
   "cell_type": "code",
   "execution_count": 105,
   "id": "cd99b000",
   "metadata": {},
   "outputs": [],
   "source": [
    "# instead of imputing Side with the average, lets impute with a random sample from the values already present in the data set.\n",
    "\n",
    "\n",
    "df4['Side'] = df4['Side'].fillna(pd.Series(np.random.choice(df4['Side'], size=len(df4.index))))"
   ]
  },
  {
   "cell_type": "code",
   "execution_count": 107,
   "id": "0d6060cc",
   "metadata": {},
   "outputs": [],
   "source": [
    "# instead of imputing Deck with the average, lets impute with a random sample from the values already present in the data set.\n",
    "\n",
    "\n",
    "df4['Deck'] = df4['Deck'].fillna(pd.Series(np.random.choice(df4['Deck'], size=len(df4.index))))"
   ]
  },
  {
   "cell_type": "code",
   "execution_count": 108,
   "id": "b3673f0d",
   "metadata": {},
   "outputs": [
    {
     "data": {
      "text/plain": [
       "PassengerId        0\n",
       "Deck               0\n",
       "Number           299\n",
       "Side               0\n",
       "CryoSleep          0\n",
       "Age                0\n",
       "VIP                0\n",
       "RoomService        0\n",
       "FoodCourt          0\n",
       "ShoppingMall       0\n",
       "Spa                0\n",
       "VRDeck             0\n",
       "Transported     4277\n",
       "Type               0\n",
       "Fam_status         0\n",
       "dtype: int64"
      ]
     },
     "execution_count": 108,
     "metadata": {},
     "output_type": "execute_result"
    }
   ],
   "source": [
    "df4.isnull().sum()"
   ]
  },
  {
   "cell_type": "code",
   "execution_count": 71,
   "id": "781fabbd",
   "metadata": {},
   "outputs": [
    {
     "data": {
      "text/html": [
       "<div>\n",
       "<style scoped>\n",
       "    .dataframe tbody tr th:only-of-type {\n",
       "        vertical-align: middle;\n",
       "    }\n",
       "\n",
       "    .dataframe tbody tr th {\n",
       "        vertical-align: top;\n",
       "    }\n",
       "\n",
       "    .dataframe thead th {\n",
       "        text-align: right;\n",
       "    }\n",
       "</style>\n",
       "<table border=\"1\" class=\"dataframe\">\n",
       "  <thead>\n",
       "    <tr style=\"text-align: right;\">\n",
       "      <th></th>\n",
       "      <th>PassengerId</th>\n",
       "      <th>Deck</th>\n",
       "      <th>Number</th>\n",
       "      <th>Side</th>\n",
       "      <th>CryoSleep</th>\n",
       "      <th>Age</th>\n",
       "      <th>VIP</th>\n",
       "      <th>RoomService</th>\n",
       "      <th>FoodCourt</th>\n",
       "      <th>ShoppingMall</th>\n",
       "      <th>Spa</th>\n",
       "      <th>VRDeck</th>\n",
       "      <th>Transported</th>\n",
       "      <th>Type</th>\n",
       "    </tr>\n",
       "  </thead>\n",
       "  <tbody>\n",
       "    <tr>\n",
       "      <th>0</th>\n",
       "      <td>0013_01</td>\n",
       "      <td>G</td>\n",
       "      <td>3</td>\n",
       "      <td>2.0</td>\n",
       "      <td>1</td>\n",
       "      <td>27.0</td>\n",
       "      <td>0</td>\n",
       "      <td>0.0</td>\n",
       "      <td>0.0</td>\n",
       "      <td>0.0</td>\n",
       "      <td>0.0</td>\n",
       "      <td>0.0</td>\n",
       "      <td>NaN</td>\n",
       "      <td>Test</td>\n",
       "    </tr>\n",
       "    <tr>\n",
       "      <th>1</th>\n",
       "      <td>0018_01</td>\n",
       "      <td>F</td>\n",
       "      <td>4</td>\n",
       "      <td>2.0</td>\n",
       "      <td>0</td>\n",
       "      <td>19.0</td>\n",
       "      <td>0</td>\n",
       "      <td>0.0</td>\n",
       "      <td>9.0</td>\n",
       "      <td>0.0</td>\n",
       "      <td>2823.0</td>\n",
       "      <td>0.0</td>\n",
       "      <td>NaN</td>\n",
       "      <td>Test</td>\n",
       "    </tr>\n",
       "    <tr>\n",
       "      <th>2</th>\n",
       "      <td>0019_01</td>\n",
       "      <td>C</td>\n",
       "      <td>0</td>\n",
       "      <td>2.0</td>\n",
       "      <td>1</td>\n",
       "      <td>31.0</td>\n",
       "      <td>0</td>\n",
       "      <td>0.0</td>\n",
       "      <td>0.0</td>\n",
       "      <td>0.0</td>\n",
       "      <td>0.0</td>\n",
       "      <td>0.0</td>\n",
       "      <td>NaN</td>\n",
       "      <td>Test</td>\n",
       "    </tr>\n",
       "    <tr>\n",
       "      <th>3</th>\n",
       "      <td>0021_01</td>\n",
       "      <td>C</td>\n",
       "      <td>1</td>\n",
       "      <td>2.0</td>\n",
       "      <td>0</td>\n",
       "      <td>38.0</td>\n",
       "      <td>0</td>\n",
       "      <td>0.0</td>\n",
       "      <td>6652.0</td>\n",
       "      <td>0.0</td>\n",
       "      <td>181.0</td>\n",
       "      <td>585.0</td>\n",
       "      <td>NaN</td>\n",
       "      <td>Test</td>\n",
       "    </tr>\n",
       "    <tr>\n",
       "      <th>4</th>\n",
       "      <td>0023_01</td>\n",
       "      <td>F</td>\n",
       "      <td>5</td>\n",
       "      <td>2.0</td>\n",
       "      <td>0</td>\n",
       "      <td>20.0</td>\n",
       "      <td>0</td>\n",
       "      <td>10.0</td>\n",
       "      <td>0.0</td>\n",
       "      <td>635.0</td>\n",
       "      <td>0.0</td>\n",
       "      <td>0.0</td>\n",
       "      <td>NaN</td>\n",
       "      <td>Test</td>\n",
       "    </tr>\n",
       "    <tr>\n",
       "      <th>...</th>\n",
       "      <td>...</td>\n",
       "      <td>...</td>\n",
       "      <td>...</td>\n",
       "      <td>...</td>\n",
       "      <td>...</td>\n",
       "      <td>...</td>\n",
       "      <td>...</td>\n",
       "      <td>...</td>\n",
       "      <td>...</td>\n",
       "      <td>...</td>\n",
       "      <td>...</td>\n",
       "      <td>...</td>\n",
       "      <td>...</td>\n",
       "      <td>...</td>\n",
       "    </tr>\n",
       "    <tr>\n",
       "      <th>12965</th>\n",
       "      <td>9276_01</td>\n",
       "      <td>A</td>\n",
       "      <td>98</td>\n",
       "      <td>1.0</td>\n",
       "      <td>0</td>\n",
       "      <td>41.0</td>\n",
       "      <td>1</td>\n",
       "      <td>0.0</td>\n",
       "      <td>6819.0</td>\n",
       "      <td>0.0</td>\n",
       "      <td>1643.0</td>\n",
       "      <td>74.0</td>\n",
       "      <td>0</td>\n",
       "      <td>Train</td>\n",
       "    </tr>\n",
       "    <tr>\n",
       "      <th>12966</th>\n",
       "      <td>9278_01</td>\n",
       "      <td>G</td>\n",
       "      <td>1499</td>\n",
       "      <td>2.0</td>\n",
       "      <td>1</td>\n",
       "      <td>18.0</td>\n",
       "      <td>0</td>\n",
       "      <td>0.0</td>\n",
       "      <td>0.0</td>\n",
       "      <td>0.0</td>\n",
       "      <td>0.0</td>\n",
       "      <td>0.0</td>\n",
       "      <td>0</td>\n",
       "      <td>Train</td>\n",
       "    </tr>\n",
       "    <tr>\n",
       "      <th>12967</th>\n",
       "      <td>9279_01</td>\n",
       "      <td>G</td>\n",
       "      <td>1500</td>\n",
       "      <td>2.0</td>\n",
       "      <td>0</td>\n",
       "      <td>26.0</td>\n",
       "      <td>0</td>\n",
       "      <td>0.0</td>\n",
       "      <td>0.0</td>\n",
       "      <td>1872.0</td>\n",
       "      <td>1.0</td>\n",
       "      <td>0.0</td>\n",
       "      <td>1</td>\n",
       "      <td>Train</td>\n",
       "    </tr>\n",
       "    <tr>\n",
       "      <th>12968</th>\n",
       "      <td>9280_01</td>\n",
       "      <td>E</td>\n",
       "      <td>608</td>\n",
       "      <td>2.0</td>\n",
       "      <td>0</td>\n",
       "      <td>32.0</td>\n",
       "      <td>0</td>\n",
       "      <td>0.0</td>\n",
       "      <td>1049.0</td>\n",
       "      <td>0.0</td>\n",
       "      <td>353.0</td>\n",
       "      <td>3235.0</td>\n",
       "      <td>0</td>\n",
       "      <td>Train</td>\n",
       "    </tr>\n",
       "    <tr>\n",
       "      <th>12969</th>\n",
       "      <td>9280_02</td>\n",
       "      <td>E</td>\n",
       "      <td>608</td>\n",
       "      <td>2.0</td>\n",
       "      <td>0</td>\n",
       "      <td>44.0</td>\n",
       "      <td>0</td>\n",
       "      <td>126.0</td>\n",
       "      <td>4688.0</td>\n",
       "      <td>0.0</td>\n",
       "      <td>0.0</td>\n",
       "      <td>12.0</td>\n",
       "      <td>1</td>\n",
       "      <td>Train</td>\n",
       "    </tr>\n",
       "  </tbody>\n",
       "</table>\n",
       "<p>12970 rows × 14 columns</p>\n",
       "</div>"
      ],
      "text/plain": [
       "      PassengerId Deck Number  Side  CryoSleep   Age  VIP  RoomService  \\\n",
       "0         0013_01    G      3   2.0          1  27.0    0          0.0   \n",
       "1         0018_01    F      4   2.0          0  19.0    0          0.0   \n",
       "2         0019_01    C      0   2.0          1  31.0    0          0.0   \n",
       "3         0021_01    C      1   2.0          0  38.0    0          0.0   \n",
       "4         0023_01    F      5   2.0          0  20.0    0         10.0   \n",
       "...           ...  ...    ...   ...        ...   ...  ...          ...   \n",
       "12965     9276_01    A     98   1.0          0  41.0    1          0.0   \n",
       "12966     9278_01    G   1499   2.0          1  18.0    0          0.0   \n",
       "12967     9279_01    G   1500   2.0          0  26.0    0          0.0   \n",
       "12968     9280_01    E    608   2.0          0  32.0    0          0.0   \n",
       "12969     9280_02    E    608   2.0          0  44.0    0        126.0   \n",
       "\n",
       "       FoodCourt  ShoppingMall     Spa  VRDeck Transported   Type  \n",
       "0            0.0           0.0     0.0     0.0         NaN   Test  \n",
       "1            9.0           0.0  2823.0     0.0         NaN   Test  \n",
       "2            0.0           0.0     0.0     0.0         NaN   Test  \n",
       "3         6652.0           0.0   181.0   585.0         NaN   Test  \n",
       "4            0.0         635.0     0.0     0.0         NaN   Test  \n",
       "...          ...           ...     ...     ...         ...    ...  \n",
       "12965     6819.0           0.0  1643.0    74.0           0  Train  \n",
       "12966        0.0           0.0     0.0     0.0           0  Train  \n",
       "12967        0.0        1872.0     1.0     0.0           1  Train  \n",
       "12968     1049.0           0.0   353.0  3235.0           0  Train  \n",
       "12969     4688.0           0.0     0.0    12.0           1  Train  \n",
       "\n",
       "[12970 rows x 14 columns]"
      ]
     },
     "execution_count": 71,
     "metadata": {},
     "output_type": "execute_result"
    }
   ],
   "source": [
    "df4"
   ]
  },
  {
   "cell_type": "code",
   "execution_count": 72,
   "id": "8c96c5cb",
   "metadata": {},
   "outputs": [
    {
     "data": {
      "text/html": [
       "<div>\n",
       "<style scoped>\n",
       "    .dataframe tbody tr th:only-of-type {\n",
       "        vertical-align: middle;\n",
       "    }\n",
       "\n",
       "    .dataframe tbody tr th {\n",
       "        vertical-align: top;\n",
       "    }\n",
       "\n",
       "    .dataframe thead th {\n",
       "        text-align: right;\n",
       "    }\n",
       "</style>\n",
       "<table border=\"1\" class=\"dataframe\">\n",
       "  <thead>\n",
       "    <tr style=\"text-align: right;\">\n",
       "      <th></th>\n",
       "      <th>PassengerId</th>\n",
       "      <th>Deck</th>\n",
       "      <th>Number</th>\n",
       "      <th>Side</th>\n",
       "      <th>CryoSleep</th>\n",
       "      <th>Age</th>\n",
       "      <th>VIP</th>\n",
       "      <th>RoomService</th>\n",
       "      <th>FoodCourt</th>\n",
       "      <th>ShoppingMall</th>\n",
       "      <th>Spa</th>\n",
       "      <th>VRDeck</th>\n",
       "      <th>Transported</th>\n",
       "      <th>Type</th>\n",
       "    </tr>\n",
       "  </thead>\n",
       "  <tbody>\n",
       "    <tr>\n",
       "      <th>0</th>\n",
       "      <td>0013_01</td>\n",
       "      <td>G</td>\n",
       "      <td>3</td>\n",
       "      <td>2.0</td>\n",
       "      <td>1</td>\n",
       "      <td>27.0</td>\n",
       "      <td>0</td>\n",
       "      <td>0.0</td>\n",
       "      <td>0.0</td>\n",
       "      <td>0.0</td>\n",
       "      <td>0.0</td>\n",
       "      <td>0.0</td>\n",
       "      <td>NaN</td>\n",
       "      <td>Test</td>\n",
       "    </tr>\n",
       "    <tr>\n",
       "      <th>1</th>\n",
       "      <td>0018_01</td>\n",
       "      <td>F</td>\n",
       "      <td>4</td>\n",
       "      <td>2.0</td>\n",
       "      <td>0</td>\n",
       "      <td>19.0</td>\n",
       "      <td>0</td>\n",
       "      <td>0.0</td>\n",
       "      <td>9.0</td>\n",
       "      <td>0.0</td>\n",
       "      <td>2823.0</td>\n",
       "      <td>0.0</td>\n",
       "      <td>NaN</td>\n",
       "      <td>Test</td>\n",
       "    </tr>\n",
       "    <tr>\n",
       "      <th>2</th>\n",
       "      <td>0019_01</td>\n",
       "      <td>C</td>\n",
       "      <td>0</td>\n",
       "      <td>2.0</td>\n",
       "      <td>1</td>\n",
       "      <td>31.0</td>\n",
       "      <td>0</td>\n",
       "      <td>0.0</td>\n",
       "      <td>0.0</td>\n",
       "      <td>0.0</td>\n",
       "      <td>0.0</td>\n",
       "      <td>0.0</td>\n",
       "      <td>NaN</td>\n",
       "      <td>Test</td>\n",
       "    </tr>\n",
       "    <tr>\n",
       "      <th>3</th>\n",
       "      <td>0021_01</td>\n",
       "      <td>C</td>\n",
       "      <td>1</td>\n",
       "      <td>2.0</td>\n",
       "      <td>0</td>\n",
       "      <td>38.0</td>\n",
       "      <td>0</td>\n",
       "      <td>0.0</td>\n",
       "      <td>6652.0</td>\n",
       "      <td>0.0</td>\n",
       "      <td>181.0</td>\n",
       "      <td>585.0</td>\n",
       "      <td>NaN</td>\n",
       "      <td>Test</td>\n",
       "    </tr>\n",
       "    <tr>\n",
       "      <th>4</th>\n",
       "      <td>0023_01</td>\n",
       "      <td>F</td>\n",
       "      <td>5</td>\n",
       "      <td>2.0</td>\n",
       "      <td>0</td>\n",
       "      <td>20.0</td>\n",
       "      <td>0</td>\n",
       "      <td>10.0</td>\n",
       "      <td>0.0</td>\n",
       "      <td>635.0</td>\n",
       "      <td>0.0</td>\n",
       "      <td>0.0</td>\n",
       "      <td>NaN</td>\n",
       "      <td>Test</td>\n",
       "    </tr>\n",
       "    <tr>\n",
       "      <th>...</th>\n",
       "      <td>...</td>\n",
       "      <td>...</td>\n",
       "      <td>...</td>\n",
       "      <td>...</td>\n",
       "      <td>...</td>\n",
       "      <td>...</td>\n",
       "      <td>...</td>\n",
       "      <td>...</td>\n",
       "      <td>...</td>\n",
       "      <td>...</td>\n",
       "      <td>...</td>\n",
       "      <td>...</td>\n",
       "      <td>...</td>\n",
       "      <td>...</td>\n",
       "    </tr>\n",
       "    <tr>\n",
       "      <th>12965</th>\n",
       "      <td>9276_01</td>\n",
       "      <td>A</td>\n",
       "      <td>98</td>\n",
       "      <td>1.0</td>\n",
       "      <td>0</td>\n",
       "      <td>41.0</td>\n",
       "      <td>1</td>\n",
       "      <td>0.0</td>\n",
       "      <td>6819.0</td>\n",
       "      <td>0.0</td>\n",
       "      <td>1643.0</td>\n",
       "      <td>74.0</td>\n",
       "      <td>0</td>\n",
       "      <td>Train</td>\n",
       "    </tr>\n",
       "    <tr>\n",
       "      <th>12966</th>\n",
       "      <td>9278_01</td>\n",
       "      <td>G</td>\n",
       "      <td>1499</td>\n",
       "      <td>2.0</td>\n",
       "      <td>1</td>\n",
       "      <td>18.0</td>\n",
       "      <td>0</td>\n",
       "      <td>0.0</td>\n",
       "      <td>0.0</td>\n",
       "      <td>0.0</td>\n",
       "      <td>0.0</td>\n",
       "      <td>0.0</td>\n",
       "      <td>0</td>\n",
       "      <td>Train</td>\n",
       "    </tr>\n",
       "    <tr>\n",
       "      <th>12967</th>\n",
       "      <td>9279_01</td>\n",
       "      <td>G</td>\n",
       "      <td>1500</td>\n",
       "      <td>2.0</td>\n",
       "      <td>0</td>\n",
       "      <td>26.0</td>\n",
       "      <td>0</td>\n",
       "      <td>0.0</td>\n",
       "      <td>0.0</td>\n",
       "      <td>1872.0</td>\n",
       "      <td>1.0</td>\n",
       "      <td>0.0</td>\n",
       "      <td>1</td>\n",
       "      <td>Train</td>\n",
       "    </tr>\n",
       "    <tr>\n",
       "      <th>12968</th>\n",
       "      <td>9280_01</td>\n",
       "      <td>E</td>\n",
       "      <td>608</td>\n",
       "      <td>2.0</td>\n",
       "      <td>0</td>\n",
       "      <td>32.0</td>\n",
       "      <td>0</td>\n",
       "      <td>0.0</td>\n",
       "      <td>1049.0</td>\n",
       "      <td>0.0</td>\n",
       "      <td>353.0</td>\n",
       "      <td>3235.0</td>\n",
       "      <td>0</td>\n",
       "      <td>Train</td>\n",
       "    </tr>\n",
       "    <tr>\n",
       "      <th>12969</th>\n",
       "      <td>9280_02</td>\n",
       "      <td>E</td>\n",
       "      <td>608</td>\n",
       "      <td>2.0</td>\n",
       "      <td>0</td>\n",
       "      <td>44.0</td>\n",
       "      <td>0</td>\n",
       "      <td>126.0</td>\n",
       "      <td>4688.0</td>\n",
       "      <td>0.0</td>\n",
       "      <td>0.0</td>\n",
       "      <td>12.0</td>\n",
       "      <td>1</td>\n",
       "      <td>Train</td>\n",
       "    </tr>\n",
       "  </tbody>\n",
       "</table>\n",
       "<p>12970 rows × 14 columns</p>\n",
       "</div>"
      ],
      "text/plain": [
       "      PassengerId Deck Number  Side  CryoSleep   Age  VIP  RoomService  \\\n",
       "0         0013_01    G      3   2.0          1  27.0    0          0.0   \n",
       "1         0018_01    F      4   2.0          0  19.0    0          0.0   \n",
       "2         0019_01    C      0   2.0          1  31.0    0          0.0   \n",
       "3         0021_01    C      1   2.0          0  38.0    0          0.0   \n",
       "4         0023_01    F      5   2.0          0  20.0    0         10.0   \n",
       "...           ...  ...    ...   ...        ...   ...  ...          ...   \n",
       "12965     9276_01    A     98   1.0          0  41.0    1          0.0   \n",
       "12966     9278_01    G   1499   2.0          1  18.0    0          0.0   \n",
       "12967     9279_01    G   1500   2.0          0  26.0    0          0.0   \n",
       "12968     9280_01    E    608   2.0          0  32.0    0          0.0   \n",
       "12969     9280_02    E    608   2.0          0  44.0    0        126.0   \n",
       "\n",
       "       FoodCourt  ShoppingMall     Spa  VRDeck Transported   Type  \n",
       "0            0.0           0.0     0.0     0.0         NaN   Test  \n",
       "1            9.0           0.0  2823.0     0.0         NaN   Test  \n",
       "2            0.0           0.0     0.0     0.0         NaN   Test  \n",
       "3         6652.0           0.0   181.0   585.0         NaN   Test  \n",
       "4            0.0         635.0     0.0     0.0         NaN   Test  \n",
       "...          ...           ...     ...     ...         ...    ...  \n",
       "12965     6819.0           0.0  1643.0    74.0           0  Train  \n",
       "12966        0.0           0.0     0.0     0.0           0  Train  \n",
       "12967        0.0        1872.0     1.0     0.0           1  Train  \n",
       "12968     1049.0           0.0   353.0  3235.0           0  Train  \n",
       "12969     4688.0           0.0     0.0    12.0           1  Train  \n",
       "\n",
       "[12970 rows x 14 columns]"
      ]
     },
     "execution_count": 72,
     "metadata": {},
     "output_type": "execute_result"
    }
   ],
   "source": [
    "df4"
   ]
  },
  {
   "cell_type": "code",
   "execution_count": 109,
   "id": "9068f263",
   "metadata": {},
   "outputs": [
    {
     "data": {
      "text/plain": [
       "PassengerId        0\n",
       "Deck               0\n",
       "Number           299\n",
       "Side               0\n",
       "CryoSleep          0\n",
       "Age                0\n",
       "VIP                0\n",
       "RoomService        0\n",
       "FoodCourt          0\n",
       "ShoppingMall       0\n",
       "Spa                0\n",
       "VRDeck             0\n",
       "Transported     4277\n",
       "Type               0\n",
       "Fam_status         0\n",
       "dtype: int64"
      ]
     },
     "execution_count": 109,
     "metadata": {},
     "output_type": "execute_result"
    }
   ],
   "source": [
    "df4.isnull().sum()"
   ]
  },
  {
   "cell_type": "code",
   "execution_count": 110,
   "id": "72ea7915",
   "metadata": {},
   "outputs": [],
   "source": [
    "df_test2 = df4[df4['Type'] == 'Test']"
   ]
  },
  {
   "cell_type": "code",
   "execution_count": 111,
   "id": "61e68b48",
   "metadata": {},
   "outputs": [],
   "source": [
    "df_train2 = df4[df4['Type'] == 'Train']"
   ]
  },
  {
   "cell_type": "code",
   "execution_count": 112,
   "id": "28635180",
   "metadata": {},
   "outputs": [
    {
     "data": {
      "text/plain": [
       "Test    4277\n",
       "Name: Type, dtype: int64"
      ]
     },
     "execution_count": 112,
     "metadata": {},
     "output_type": "execute_result"
    }
   ],
   "source": [
    "df_test2['Type'].value_counts()"
   ]
  },
  {
   "cell_type": "code",
   "execution_count": 113,
   "id": "d69bc6ca",
   "metadata": {
    "scrolled": true
   },
   "outputs": [
    {
     "data": {
      "text/plain": [
       "Train    8693\n",
       "Name: Type, dtype: int64"
      ]
     },
     "execution_count": 113,
     "metadata": {},
     "output_type": "execute_result"
    }
   ],
   "source": [
    "df_train2['Type'].value_counts()"
   ]
  },
  {
   "cell_type": "code",
   "execution_count": 114,
   "id": "7a799090",
   "metadata": {},
   "outputs": [
    {
     "data": {
      "text/plain": [
       "(12970, 14)"
      ]
     },
     "execution_count": 114,
     "metadata": {},
     "output_type": "execute_result"
    }
   ],
   "source": [
    "df_train.shape"
   ]
  },
  {
   "cell_type": "code",
   "execution_count": 115,
   "id": "2feac76e",
   "metadata": {},
   "outputs": [],
   "source": [
    "y = df_train2[\"Transported\"].astype('int')\n",
    "\n",
    "features = ['PassengerId', 'FoodCourt', \"ShoppingMall\", \"CryoSleep\",'Age', 'RoomService', 'Spa', 'VRDeck', 'Side']\n",
    "X = df_train2[features]\n",
    "\n",
    "\n",
    "X_train, X_test, y_train, y_test = train_test_split(X, y, stratify=y, test_size=0.3, random_state=100)\n",
    "\n",
    "forest = RandomForestClassifier(n_estimators=100, random_state=100)"
   ]
  },
  {
   "cell_type": "code",
   "execution_count": 119,
   "id": "b2e02653",
   "metadata": {
    "scrolled": true
   },
   "outputs": [
    {
     "data": {
      "text/plain": [
       "(8693,)"
      ]
     },
     "execution_count": 119,
     "metadata": {},
     "output_type": "execute_result"
    }
   ],
   "source": [
    "y.shape"
   ]
  },
  {
   "cell_type": "code",
   "execution_count": 120,
   "id": "49046a3c",
   "metadata": {},
   "outputs": [
    {
     "data": {
      "text/plain": [
       "(8693, 9)"
      ]
     },
     "execution_count": 120,
     "metadata": {},
     "output_type": "execute_result"
    }
   ],
   "source": [
    "X.shape"
   ]
  },
  {
   "cell_type": "code",
   "execution_count": 121,
   "id": "cca53ef9",
   "metadata": {},
   "outputs": [
    {
     "data": {
      "text/plain": [
       "PassengerId     0\n",
       "FoodCourt       0\n",
       "ShoppingMall    0\n",
       "CryoSleep       0\n",
       "Age             0\n",
       "RoomService     0\n",
       "Spa             0\n",
       "VRDeck          0\n",
       "Side            0\n",
       "dtype: int64"
      ]
     },
     "execution_count": 121,
     "metadata": {},
     "output_type": "execute_result"
    }
   ],
   "source": [
    "X.isnull().sum()"
   ]
  },
  {
   "cell_type": "code",
   "execution_count": 122,
   "id": "10a736f5",
   "metadata": {},
   "outputs": [
    {
     "name": "stdout",
     "output_type": "stream",
     "text": [
      "Accuracy: 0.7641871165644172\n"
     ]
    }
   ],
   "source": [
    "forest.fit(X_train,y_train)\n",
    "predictions = forest.predict(X_test)\n",
    "print(\"Accuracy:\",metrics.accuracy_score(y_test, predictions))"
   ]
  },
  {
   "cell_type": "markdown",
   "id": "d0d89e20",
   "metadata": {},
   "source": [
    "# off to a decent start!"
   ]
  },
  {
   "cell_type": "code",
   "execution_count": null,
   "id": "6c26fb47",
   "metadata": {},
   "outputs": [],
   "source": [
    "y = df_train2[\"Transported\"].astype('int')\n",
    "\n",
    "features = ['PassengerId', 'FoodCourt', \"ShoppingMall\", \"CryoSleep\",'Age', 'RoomService', 'Spa', 'VRDeck', 'Side']\n",
    "X = df_train2[features]\n",
    "X_test = df_test2[features]\n",
    "\n",
    "model = RandomForestClassifier(n_estimators=100, max_depth=5, random_state=1)\n",
    "model.fit(X, y)\n",
    "predictions = model.predict(X_test)\n",
    "\n",
    "output = pd.DataFrame({'PassengerId': df_test2.PassengerId, 'Transported': predictions})\n",
    "\n",
    "#have to convert output back to True and False\n",
    "output.loc[output['Transported'] == 0, 'Transported'] = False\n",
    "output.loc[output['Transported'] == 1, 'Transported'] = True\n",
    "\n",
    "output.to_csv('submission.csv', index=False)\n",
    "print(\"Your submission was successfully saved!\")"
   ]
  },
  {
   "cell_type": "markdown",
   "id": "07752c9e",
   "metadata": {},
   "source": [
    "# this returned a score of 0.79yadayadayada. Nice."
   ]
  },
  {
   "cell_type": "code",
   "execution_count": null,
   "id": "149a23f5",
   "metadata": {},
   "outputs": [],
   "source": []
  }
 ],
 "metadata": {
  "kernelspec": {
   "display_name": "Python 3 (ipykernel)",
   "language": "python",
   "name": "python3"
  },
  "language_info": {
   "codemirror_mode": {
    "name": "ipython",
    "version": 3
   },
   "file_extension": ".py",
   "mimetype": "text/x-python",
   "name": "python",
   "nbconvert_exporter": "python",
   "pygments_lexer": "ipython3",
   "version": "3.9.12"
  }
 },
 "nbformat": 4,
 "nbformat_minor": 5
}
